{
 "cells": [
  {
   "cell_type": "markdown",
   "id": "6903af3e",
   "metadata": {},
   "source": [
    "# The script consists of the Following"
   ]
  },
  {
   "cell_type": "markdown",
   "id": "38a68e68",
   "metadata": {},
   "source": [
    "### Customer Profiling basis Age, Income, Number of Dependents"
   ]
  },
  {
   "cell_type": "markdown",
   "id": "04bc4383",
   "metadata": {},
   "source": [
    "### Visualization basis customer profiling"
   ]
  },
  {
   "cell_type": "markdown",
   "id": "4d550d4b",
   "metadata": {},
   "source": [
    "### Aggregation (Customer Profiles)"
   ]
  },
  {
   "cell_type": "markdown",
   "id": "55607988",
   "metadata": {},
   "source": [
    "### Comparing customer profiles with regions and departments"
   ]
  },
  {
   "cell_type": "markdown",
   "id": "7e530178",
   "metadata": {},
   "source": [
    "### Data Points for Sales and Marketing team including busiest day, hour, department."
   ]
  },
  {
   "cell_type": "code",
   "execution_count": 1,
   "id": "7ce0e923",
   "metadata": {},
   "outputs": [],
   "source": [
    "# Importing libraries\n",
    "\n",
    "import numpy as np\n",
    "import pandas as pd\n",
    "import os\n",
    "import matplotlib.pyplot as plt\n",
    "import seaborn as sns\n",
    "import scipy"
   ]
  },
  {
   "cell_type": "code",
   "execution_count": 2,
   "id": "5f169ed1",
   "metadata": {},
   "outputs": [],
   "source": [
    "path = r'C:\\Users\\Bhati\\OneDrive\\Desktop\\CF\\Data Analytics Immersion\\Achievement 4\\11-Apr-2023 Instacart Basket Analysis'"
   ]
  },
  {
   "cell_type": "code",
   "execution_count": 3,
   "id": "e7dbdd2a",
   "metadata": {},
   "outputs": [],
   "source": [
    "# Importing High Activity Customer Data\n",
    "df = pd.read_pickle(os.path.join(path, '02 Data', 'Prepared Data', 'High_activity_customers.pkl'))"
   ]
  },
  {
   "cell_type": "code",
   "execution_count": 4,
   "id": "f5ff04df",
   "metadata": {},
   "outputs": [],
   "source": [
    "# Importing department Data\n",
    "df_department = pd.read_csv(os.path.join(path, '02 Data', 'Prepared Data', 'departments_wrangled.csv'), index_col = False)"
   ]
  },
  {
   "cell_type": "markdown",
   "id": "42e46898",
   "metadata": {},
   "source": [
    "Checking Imported DataFrames"
   ]
  },
  {
   "cell_type": "code",
   "execution_count": 5,
   "id": "37297f82",
   "metadata": {},
   "outputs": [
    {
     "data": {
      "text/html": [
       "<div>\n",
       "<style scoped>\n",
       "    .dataframe tbody tr th:only-of-type {\n",
       "        vertical-align: middle;\n",
       "    }\n",
       "\n",
       "    .dataframe tbody tr th {\n",
       "        vertical-align: top;\n",
       "    }\n",
       "\n",
       "    .dataframe thead th {\n",
       "        text-align: right;\n",
       "    }\n",
       "</style>\n",
       "<table border=\"1\" class=\"dataframe\">\n",
       "  <thead>\n",
       "    <tr style=\"text-align: right;\">\n",
       "      <th></th>\n",
       "      <th>product_id</th>\n",
       "      <th>product_name</th>\n",
       "      <th>aisle_id</th>\n",
       "      <th>department_id</th>\n",
       "      <th>prices</th>\n",
       "      <th>order_id</th>\n",
       "      <th>user_id</th>\n",
       "      <th>order_number</th>\n",
       "      <th>orders_day_of_week</th>\n",
       "      <th>order_hour_of_day</th>\n",
       "      <th>...</th>\n",
       "      <th>order_freq_flag</th>\n",
       "      <th>gender</th>\n",
       "      <th>state</th>\n",
       "      <th>age</th>\n",
       "      <th>date_joined</th>\n",
       "      <th>Number_of_dependents</th>\n",
       "      <th>family_status</th>\n",
       "      <th>income</th>\n",
       "      <th>region</th>\n",
       "      <th>activity_flag</th>\n",
       "    </tr>\n",
       "  </thead>\n",
       "  <tbody>\n",
       "    <tr>\n",
       "      <th>0</th>\n",
       "      <td>1</td>\n",
       "      <td>Chocolate Sandwich Cookies</td>\n",
       "      <td>61</td>\n",
       "      <td>19</td>\n",
       "      <td>5.8</td>\n",
       "      <td>3139998</td>\n",
       "      <td>138</td>\n",
       "      <td>28</td>\n",
       "      <td>6</td>\n",
       "      <td>11</td>\n",
       "      <td>...</td>\n",
       "      <td>Frequent customer</td>\n",
       "      <td>Male</td>\n",
       "      <td>Minnesota</td>\n",
       "      <td>81</td>\n",
       "      <td>8/1/2019</td>\n",
       "      <td>1</td>\n",
       "      <td>married</td>\n",
       "      <td>49620</td>\n",
       "      <td>Midwest</td>\n",
       "      <td>high activity</td>\n",
       "    </tr>\n",
       "    <tr>\n",
       "      <th>1</th>\n",
       "      <td>1</td>\n",
       "      <td>Chocolate Sandwich Cookies</td>\n",
       "      <td>61</td>\n",
       "      <td>19</td>\n",
       "      <td>5.8</td>\n",
       "      <td>1977647</td>\n",
       "      <td>138</td>\n",
       "      <td>30</td>\n",
       "      <td>6</td>\n",
       "      <td>17</td>\n",
       "      <td>...</td>\n",
       "      <td>Frequent customer</td>\n",
       "      <td>Male</td>\n",
       "      <td>Minnesota</td>\n",
       "      <td>81</td>\n",
       "      <td>8/1/2019</td>\n",
       "      <td>1</td>\n",
       "      <td>married</td>\n",
       "      <td>49620</td>\n",
       "      <td>Midwest</td>\n",
       "      <td>high activity</td>\n",
       "    </tr>\n",
       "    <tr>\n",
       "      <th>2</th>\n",
       "      <td>907</td>\n",
       "      <td>Premium Sliced Bacon</td>\n",
       "      <td>106</td>\n",
       "      <td>12</td>\n",
       "      <td>20.0</td>\n",
       "      <td>3160996</td>\n",
       "      <td>138</td>\n",
       "      <td>1</td>\n",
       "      <td>5</td>\n",
       "      <td>13</td>\n",
       "      <td>...</td>\n",
       "      <td>Frequent customer</td>\n",
       "      <td>Male</td>\n",
       "      <td>Minnesota</td>\n",
       "      <td>81</td>\n",
       "      <td>8/1/2019</td>\n",
       "      <td>1</td>\n",
       "      <td>married</td>\n",
       "      <td>49620</td>\n",
       "      <td>Midwest</td>\n",
       "      <td>high activity</td>\n",
       "    </tr>\n",
       "    <tr>\n",
       "      <th>3</th>\n",
       "      <td>907</td>\n",
       "      <td>Premium Sliced Bacon</td>\n",
       "      <td>106</td>\n",
       "      <td>12</td>\n",
       "      <td>20.0</td>\n",
       "      <td>2254091</td>\n",
       "      <td>138</td>\n",
       "      <td>10</td>\n",
       "      <td>5</td>\n",
       "      <td>14</td>\n",
       "      <td>...</td>\n",
       "      <td>Frequent customer</td>\n",
       "      <td>Male</td>\n",
       "      <td>Minnesota</td>\n",
       "      <td>81</td>\n",
       "      <td>8/1/2019</td>\n",
       "      <td>1</td>\n",
       "      <td>married</td>\n",
       "      <td>49620</td>\n",
       "      <td>Midwest</td>\n",
       "      <td>high activity</td>\n",
       "    </tr>\n",
       "    <tr>\n",
       "      <th>4</th>\n",
       "      <td>1000</td>\n",
       "      <td>Apricots</td>\n",
       "      <td>18</td>\n",
       "      <td>10</td>\n",
       "      <td>12.9</td>\n",
       "      <td>505689</td>\n",
       "      <td>138</td>\n",
       "      <td>9</td>\n",
       "      <td>6</td>\n",
       "      <td>12</td>\n",
       "      <td>...</td>\n",
       "      <td>Frequent customer</td>\n",
       "      <td>Male</td>\n",
       "      <td>Minnesota</td>\n",
       "      <td>81</td>\n",
       "      <td>8/1/2019</td>\n",
       "      <td>1</td>\n",
       "      <td>married</td>\n",
       "      <td>49620</td>\n",
       "      <td>Midwest</td>\n",
       "      <td>high activity</td>\n",
       "    </tr>\n",
       "  </tbody>\n",
       "</table>\n",
       "<p>5 rows × 32 columns</p>\n",
       "</div>"
      ],
      "text/plain": [
       "   product_id                product_name  aisle_id  department_id  prices  \\\n",
       "0           1  Chocolate Sandwich Cookies        61             19     5.8   \n",
       "1           1  Chocolate Sandwich Cookies        61             19     5.8   \n",
       "2         907        Premium Sliced Bacon       106             12    20.0   \n",
       "3         907        Premium Sliced Bacon       106             12    20.0   \n",
       "4        1000                    Apricots        18             10    12.9   \n",
       "\n",
       "   order_id  user_id  order_number  orders_day_of_week  order_hour_of_day  \\\n",
       "0   3139998      138            28                   6                 11   \n",
       "1   1977647      138            30                   6                 17   \n",
       "2   3160996      138             1                   5                 13   \n",
       "3   2254091      138            10                   5                 14   \n",
       "4    505689      138             9                   6                 12   \n",
       "\n",
       "   ...    order_freq_flag  gender      state age date_joined  \\\n",
       "0  ...  Frequent customer    Male  Minnesota  81    8/1/2019   \n",
       "1  ...  Frequent customer    Male  Minnesota  81    8/1/2019   \n",
       "2  ...  Frequent customer    Male  Minnesota  81    8/1/2019   \n",
       "3  ...  Frequent customer    Male  Minnesota  81    8/1/2019   \n",
       "4  ...  Frequent customer    Male  Minnesota  81    8/1/2019   \n",
       "\n",
       "  Number_of_dependents family_status  income   region  activity_flag  \n",
       "0                    1       married   49620  Midwest  high activity  \n",
       "1                    1       married   49620  Midwest  high activity  \n",
       "2                    1       married   49620  Midwest  high activity  \n",
       "3                    1       married   49620  Midwest  high activity  \n",
       "4                    1       married   49620  Midwest  high activity  \n",
       "\n",
       "[5 rows x 32 columns]"
      ]
     },
     "execution_count": 5,
     "metadata": {},
     "output_type": "execute_result"
    }
   ],
   "source": [
    "df.head()"
   ]
  },
  {
   "cell_type": "code",
   "execution_count": 6,
   "id": "f6af531b",
   "metadata": {},
   "outputs": [
    {
     "data": {
      "text/plain": [
       "(30964564, 32)"
      ]
     },
     "execution_count": 6,
     "metadata": {},
     "output_type": "execute_result"
    }
   ],
   "source": [
    "df.shape"
   ]
  },
  {
   "cell_type": "code",
   "execution_count": 7,
   "id": "3284315e",
   "metadata": {},
   "outputs": [
    {
     "data": {
      "text/html": [
       "<div>\n",
       "<style scoped>\n",
       "    .dataframe tbody tr th:only-of-type {\n",
       "        vertical-align: middle;\n",
       "    }\n",
       "\n",
       "    .dataframe tbody tr th {\n",
       "        vertical-align: top;\n",
       "    }\n",
       "\n",
       "    .dataframe thead th {\n",
       "        text-align: right;\n",
       "    }\n",
       "</style>\n",
       "<table border=\"1\" class=\"dataframe\">\n",
       "  <thead>\n",
       "    <tr style=\"text-align: right;\">\n",
       "      <th></th>\n",
       "      <th>Unnamed: 0</th>\n",
       "      <th>department</th>\n",
       "    </tr>\n",
       "  </thead>\n",
       "  <tbody>\n",
       "    <tr>\n",
       "      <th>0</th>\n",
       "      <td>1</td>\n",
       "      <td>frozen</td>\n",
       "    </tr>\n",
       "    <tr>\n",
       "      <th>1</th>\n",
       "      <td>2</td>\n",
       "      <td>other</td>\n",
       "    </tr>\n",
       "    <tr>\n",
       "      <th>2</th>\n",
       "      <td>3</td>\n",
       "      <td>bakery</td>\n",
       "    </tr>\n",
       "    <tr>\n",
       "      <th>3</th>\n",
       "      <td>4</td>\n",
       "      <td>produce</td>\n",
       "    </tr>\n",
       "    <tr>\n",
       "      <th>4</th>\n",
       "      <td>5</td>\n",
       "      <td>alcohol</td>\n",
       "    </tr>\n",
       "  </tbody>\n",
       "</table>\n",
       "</div>"
      ],
      "text/plain": [
       "   Unnamed: 0 department\n",
       "0           1     frozen\n",
       "1           2      other\n",
       "2           3     bakery\n",
       "3           4    produce\n",
       "4           5    alcohol"
      ]
     },
     "execution_count": 7,
     "metadata": {},
     "output_type": "execute_result"
    }
   ],
   "source": [
    "df_department.head()"
   ]
  },
  {
   "cell_type": "code",
   "execution_count": 8,
   "id": "581bdc20",
   "metadata": {},
   "outputs": [],
   "source": [
    "# Rename unnamed column to department id\n",
    "df_department.rename(columns = {'Unnamed: 0' : 'department_id'}, inplace = True)"
   ]
  },
  {
   "cell_type": "code",
   "execution_count": 9,
   "id": "3517c955",
   "metadata": {},
   "outputs": [
    {
     "data": {
      "text/html": [
       "<div>\n",
       "<style scoped>\n",
       "    .dataframe tbody tr th:only-of-type {\n",
       "        vertical-align: middle;\n",
       "    }\n",
       "\n",
       "    .dataframe tbody tr th {\n",
       "        vertical-align: top;\n",
       "    }\n",
       "\n",
       "    .dataframe thead th {\n",
       "        text-align: right;\n",
       "    }\n",
       "</style>\n",
       "<table border=\"1\" class=\"dataframe\">\n",
       "  <thead>\n",
       "    <tr style=\"text-align: right;\">\n",
       "      <th></th>\n",
       "      <th>department_id</th>\n",
       "      <th>department</th>\n",
       "    </tr>\n",
       "  </thead>\n",
       "  <tbody>\n",
       "    <tr>\n",
       "      <th>0</th>\n",
       "      <td>1</td>\n",
       "      <td>frozen</td>\n",
       "    </tr>\n",
       "    <tr>\n",
       "      <th>1</th>\n",
       "      <td>2</td>\n",
       "      <td>other</td>\n",
       "    </tr>\n",
       "    <tr>\n",
       "      <th>2</th>\n",
       "      <td>3</td>\n",
       "      <td>bakery</td>\n",
       "    </tr>\n",
       "    <tr>\n",
       "      <th>3</th>\n",
       "      <td>4</td>\n",
       "      <td>produce</td>\n",
       "    </tr>\n",
       "    <tr>\n",
       "      <th>4</th>\n",
       "      <td>5</td>\n",
       "      <td>alcohol</td>\n",
       "    </tr>\n",
       "  </tbody>\n",
       "</table>\n",
       "</div>"
      ],
      "text/plain": [
       "   department_id department\n",
       "0              1     frozen\n",
       "1              2      other\n",
       "2              3     bakery\n",
       "3              4    produce\n",
       "4              5    alcohol"
      ]
     },
     "execution_count": 9,
     "metadata": {},
     "output_type": "execute_result"
    }
   ],
   "source": [
    "df_department.head()"
   ]
  },
  {
   "cell_type": "code",
   "execution_count": 10,
   "id": "d1b2bfb9",
   "metadata": {},
   "outputs": [
    {
     "data": {
      "text/plain": [
       "(21, 2)"
      ]
     },
     "execution_count": 10,
     "metadata": {},
     "output_type": "execute_result"
    }
   ],
   "source": [
    "df_department.shape"
   ]
  },
  {
   "cell_type": "markdown",
   "id": "fe9d7fee",
   "metadata": {},
   "source": [
    "# Customer Profiling"
   ]
  },
  {
   "cell_type": "markdown",
   "id": "7a2cf9bf",
   "metadata": {},
   "source": [
    "The marketing and business strategy units at Instacart want to create more-relevant marketing strategies for different products and are, thus, curious about customer profiling in their database. Create a profiling variable based on age, income, certain goods in the “department_id” column, and number of dependents. You might also use the “orders_day_of_the_week” and “order_hour_of_day” columns if you can think of a way they would impact customer profiles. (Hint: As an example, try thinking of what characteristics would lead you to the profile “Single adult” or “Young parent.”)"
   ]
  },
  {
   "cell_type": "markdown",
   "id": "37d4613d",
   "metadata": {},
   "source": [
    "## Age"
   ]
  },
  {
   "cell_type": "code",
   "execution_count": 11,
   "id": "03ccd81f",
   "metadata": {},
   "outputs": [
    {
     "data": {
      "text/plain": [
       "count    3.096456e+07\n",
       "mean     4.946803e+01\n",
       "std      1.848528e+01\n",
       "min      1.800000e+01\n",
       "25%      3.300000e+01\n",
       "50%      4.900000e+01\n",
       "75%      6.500000e+01\n",
       "max      8.100000e+01\n",
       "Name: age, dtype: float64"
      ]
     },
     "execution_count": 11,
     "metadata": {},
     "output_type": "execute_result"
    }
   ],
   "source": [
    "# Checking descriptive statistics of age\n",
    "df['age'].describe()"
   ]
  },
  {
   "cell_type": "markdown",
   "id": "0f147918",
   "metadata": {},
   "source": [
    "**Customers will be grouped as per the following**"
   ]
  },
  {
   "cell_type": "markdown",
   "id": "6033da01",
   "metadata": {},
   "source": [
    "Young Adult : 18-39\n",
    "Middle Aged : 40-65\n",
    "Senior : 65+"
   ]
  },
  {
   "cell_type": "code",
   "execution_count": 12,
   "id": "65a5cace",
   "metadata": {},
   "outputs": [],
   "source": [
    "# Creating age groups\n",
    "df.loc[(df['age'] >= 18) & (df['age'] < 40), 'age_group'] = 'Young Adult'\n",
    "df.loc[(df['age'] >= 40) & (df['age'] < 65), 'age_group'] = 'Middle Aged'\n",
    "df.loc[df['age'] >= 65, 'age_group'] = 'Senior'"
   ]
  },
  {
   "cell_type": "code",
   "execution_count": 13,
   "id": "735292da",
   "metadata": {},
   "outputs": [
    {
     "data": {
      "text/plain": [
       "Middle Aged    12103910\n",
       "Young Adult    10665110\n",
       "Senior          8195544\n",
       "Name: age_group, dtype: int64"
      ]
     },
     "execution_count": 13,
     "metadata": {},
     "output_type": "execute_result"
    }
   ],
   "source": [
    "# Checking age_group counts\n",
    "df['age_group'].value_counts(dropna = False)"
   ]
  },
  {
   "cell_type": "markdown",
   "id": "d0512e90",
   "metadata": {},
   "source": [
    "## Income"
   ]
  },
  {
   "cell_type": "code",
   "execution_count": 14,
   "id": "73e6ebff",
   "metadata": {},
   "outputs": [
    {
     "data": {
      "text/plain": [
       "count    3.096456e+07\n",
       "mean     9.967587e+04\n",
       "std      4.314187e+04\n",
       "min      2.590300e+04\n",
       "25%      6.729200e+04\n",
       "50%      9.676500e+04\n",
       "75%      1.281020e+05\n",
       "max      5.939010e+05\n",
       "Name: income, dtype: float64"
      ]
     },
     "execution_count": 14,
     "metadata": {},
     "output_type": "execute_result"
    }
   ],
   "source": [
    "# Checking descriptive statistics of income\n",
    "df['income'].describe()"
   ]
  },
  {
   "cell_type": "markdown",
   "id": "a3a3df9a",
   "metadata": {},
   "source": [
    "**Customer will be grouped as per the following**"
   ]
  },
  {
   "cell_type": "markdown",
   "id": "1210bddc",
   "metadata": {},
   "source": [
    "Based on Pew Research Definition of income:https://money.usnews.com/money/personal-finance/family-finance/articles/where-do-i-fall-in-the-american-economic-class-system"
   ]
  },
  {
   "cell_type": "markdown",
   "id": "1c752942",
   "metadata": {},
   "source": [
    "Low : < 52,200\n",
    "Middle : 52,200 - 156,600\n",
    "High : > 156,600"
   ]
  },
  {
   "cell_type": "code",
   "execution_count": 15,
   "id": "a9db71f1",
   "metadata": {},
   "outputs": [],
   "source": [
    "# Creating income groups\n",
    "df.loc[df['income'] < 52200, 'income_group'] = 'Low'\n",
    "df.loc[(df['income'] >= 52200) & (df['income'] < 156600), 'income_group'] = 'Middle'\n",
    "df.loc[df['income'] >= 156600, 'income_group'] = 'High'"
   ]
  },
  {
   "cell_type": "code",
   "execution_count": 16,
   "id": "784f096b",
   "metadata": {},
   "outputs": [
    {
     "data": {
      "text/plain": [
       "Middle    24541333\n",
       "Low        3691708\n",
       "High       2731523\n",
       "Name: income_group, dtype: int64"
      ]
     },
     "execution_count": 16,
     "metadata": {},
     "output_type": "execute_result"
    }
   ],
   "source": [
    "# Checking income_group counts\n",
    "df['income_group'].value_counts(dropna = False)"
   ]
  },
  {
   "cell_type": "markdown",
   "id": "b6c3db84",
   "metadata": {},
   "source": [
    "## Number of Dependents"
   ]
  },
  {
   "cell_type": "code",
   "execution_count": 17,
   "id": "7181edd5",
   "metadata": {},
   "outputs": [
    {
     "data": {
      "text/plain": [
       "count    3.096456e+07\n",
       "mean     1.501819e+00\n",
       "std      1.118896e+00\n",
       "min      0.000000e+00\n",
       "25%      1.000000e+00\n",
       "50%      2.000000e+00\n",
       "75%      3.000000e+00\n",
       "max      3.000000e+00\n",
       "Name: Number_of_dependents, dtype: float64"
      ]
     },
     "execution_count": 17,
     "metadata": {},
     "output_type": "execute_result"
    }
   ],
   "source": [
    "# Checking descriptive statistics of dependents column\n",
    "df['Number_of_dependents'].describe()"
   ]
  },
  {
   "cell_type": "markdown",
   "id": "15f5ee5d",
   "metadata": {},
   "source": [
    "Number of dependents fall in the range of 0-3"
   ]
  },
  {
   "cell_type": "code",
   "execution_count": 18,
   "id": "e317e4d2",
   "metadata": {},
   "outputs": [
    {
     "name": "stdout",
     "output_type": "stream",
     "text": [
      "<class 'pandas.core.frame.DataFrame'>\n",
      "Int64Index: 30964564 entries, 0 to 32404847\n",
      "Data columns (total 34 columns):\n",
      " #   Column                  Dtype  \n",
      "---  ------                  -----  \n",
      " 0   product_id              int64  \n",
      " 1   product_name            object \n",
      " 2   aisle_id                int64  \n",
      " 3   department_id           int64  \n",
      " 4   prices                  float64\n",
      " 5   order_id                int64  \n",
      " 6   user_id                 int64  \n",
      " 7   order_number            int64  \n",
      " 8   orders_day_of_week      int64  \n",
      " 9   order_hour_of_day       int64  \n",
      " 10  days_since_prior_order  float64\n",
      " 11  add_to_cart_order       int64  \n",
      " 12  reordered               int64  \n",
      " 13  price_range_loc         object \n",
      " 14  busiest day             object \n",
      " 15  busiest days            object \n",
      " 16  busiest_period_of_day   object \n",
      " 17  max_order               int64  \n",
      " 18  loyalty_flag            object \n",
      " 19  avg_price               float64\n",
      " 20  spending_flag           object \n",
      " 21  median_freq             float64\n",
      " 22  order_freq_flag         object \n",
      " 23  gender                  object \n",
      " 24  state                   object \n",
      " 25  age                     int64  \n",
      " 26  date_joined             object \n",
      " 27  Number_of_dependents    int64  \n",
      " 28  family_status           object \n",
      " 29  income                  int64  \n",
      " 30  region                  object \n",
      " 31  activity_flag           object \n",
      " 32  age_group               object \n",
      " 33  income_group            object \n",
      "dtypes: float64(4), int64(14), object(16)\n",
      "memory usage: 8.1+ GB\n"
     ]
    }
   ],
   "source": [
    "df.info()"
   ]
  },
  {
   "cell_type": "code",
   "execution_count": 19,
   "id": "4532cb77",
   "metadata": {},
   "outputs": [],
   "source": [
    "# Creating a crosstab between number of dependents and family status\n",
    "crosstab = pd.crosstab(df['family_status'], df['Number_of_dependents'], dropna = False)"
   ]
  },
  {
   "cell_type": "code",
   "execution_count": 20,
   "id": "a6cedfb3",
   "metadata": {},
   "outputs": [
    {
     "data": {
      "text/html": [
       "<div>\n",
       "<style scoped>\n",
       "    .dataframe tbody tr th:only-of-type {\n",
       "        vertical-align: middle;\n",
       "    }\n",
       "\n",
       "    .dataframe tbody tr th {\n",
       "        vertical-align: top;\n",
       "    }\n",
       "\n",
       "    .dataframe thead th {\n",
       "        text-align: right;\n",
       "    }\n",
       "</style>\n",
       "<table border=\"1\" class=\"dataframe\">\n",
       "  <thead>\n",
       "    <tr style=\"text-align: right;\">\n",
       "      <th>Number_of_dependents</th>\n",
       "      <th>0</th>\n",
       "      <th>1</th>\n",
       "      <th>2</th>\n",
       "      <th>3</th>\n",
       "    </tr>\n",
       "    <tr>\n",
       "      <th>family_status</th>\n",
       "      <th></th>\n",
       "      <th></th>\n",
       "      <th></th>\n",
       "      <th></th>\n",
       "    </tr>\n",
       "  </thead>\n",
       "  <tbody>\n",
       "    <tr>\n",
       "      <th>divorced/widowed</th>\n",
       "      <td>2645271</td>\n",
       "      <td>0</td>\n",
       "      <td>0</td>\n",
       "      <td>0</td>\n",
       "    </tr>\n",
       "    <tr>\n",
       "      <th>living with parents and siblings</th>\n",
       "      <td>0</td>\n",
       "      <td>508045</td>\n",
       "      <td>484658</td>\n",
       "      <td>488469</td>\n",
       "    </tr>\n",
       "    <tr>\n",
       "      <th>married</th>\n",
       "      <td>0</td>\n",
       "      <td>7211061</td>\n",
       "      <td>7248603</td>\n",
       "      <td>7284047</td>\n",
       "    </tr>\n",
       "    <tr>\n",
       "      <th>single</th>\n",
       "      <td>5094410</td>\n",
       "      <td>0</td>\n",
       "      <td>0</td>\n",
       "      <td>0</td>\n",
       "    </tr>\n",
       "  </tbody>\n",
       "</table>\n",
       "</div>"
      ],
      "text/plain": [
       "Number_of_dependents                    0        1        2        3\n",
       "family_status                                                       \n",
       "divorced/widowed                  2645271        0        0        0\n",
       "living with parents and siblings        0   508045   484658   488469\n",
       "married                                 0  7211061  7248603  7284047\n",
       "single                            5094410        0        0        0"
      ]
     },
     "execution_count": 20,
     "metadata": {},
     "output_type": "execute_result"
    }
   ],
   "source": [
    "crosstab"
   ]
  },
  {
   "cell_type": "markdown",
   "id": "25fc5740",
   "metadata": {},
   "source": [
    "Dependents are defined, it could be children, spouse, elderly parents etc. Hence creating a new column of family size"
   ]
  },
  {
   "cell_type": "code",
   "execution_count": 21,
   "id": "4a7a382a",
   "metadata": {},
   "outputs": [],
   "source": [
    "# Create a family size group\n",
    "df.loc[df['Number_of_dependents'] == 0, 'household_size'] = 'Single'\n",
    "df.loc[(df['Number_of_dependents'] == 1) | (df['Number_of_dependents'] == 2), 'household_size'] = 'Medium Family'\n",
    "df.loc[df['Number_of_dependents'] == 3, 'household_size'] = 'Large Family'"
   ]
  },
  {
   "cell_type": "code",
   "execution_count": 22,
   "id": "60cd62b1",
   "metadata": {},
   "outputs": [
    {
     "data": {
      "text/plain": [
       "Medium Family    15452367\n",
       "Large Family      7772516\n",
       "Single            7739681\n",
       "Name: household_size, dtype: int64"
      ]
     },
     "execution_count": 22,
     "metadata": {},
     "output_type": "execute_result"
    }
   ],
   "source": [
    "# Checking the dependent count\n",
    "df['household_size'].value_counts(dropna = False)"
   ]
  },
  {
   "cell_type": "code",
   "execution_count": 173,
   "id": "be98d613",
   "metadata": {},
   "outputs": [],
   "source": [
    "# Creating a crosstab between dependents and family status\n",
    "crosstab_fam = pd.crosstab(df['age_group'], df['family_status'], dropna = False)"
   ]
  },
  {
   "cell_type": "code",
   "execution_count": 174,
   "id": "e775535e",
   "metadata": {},
   "outputs": [
    {
     "data": {
      "text/html": [
       "<div>\n",
       "<style scoped>\n",
       "    .dataframe tbody tr th:only-of-type {\n",
       "        vertical-align: middle;\n",
       "    }\n",
       "\n",
       "    .dataframe tbody tr th {\n",
       "        vertical-align: top;\n",
       "    }\n",
       "\n",
       "    .dataframe thead th {\n",
       "        text-align: right;\n",
       "    }\n",
       "</style>\n",
       "<table border=\"1\" class=\"dataframe\">\n",
       "  <thead>\n",
       "    <tr style=\"text-align: right;\">\n",
       "      <th>family_status</th>\n",
       "      <th>divorced/widowed</th>\n",
       "      <th>living with parents and siblings</th>\n",
       "      <th>married</th>\n",
       "      <th>single</th>\n",
       "    </tr>\n",
       "    <tr>\n",
       "      <th>age_group</th>\n",
       "      <th></th>\n",
       "      <th></th>\n",
       "      <th></th>\n",
       "      <th></th>\n",
       "    </tr>\n",
       "  </thead>\n",
       "  <tbody>\n",
       "    <tr>\n",
       "      <th>Middle Aged</th>\n",
       "      <td>623313</td>\n",
       "      <td>0</td>\n",
       "      <td>9046762</td>\n",
       "      <td>2433835</td>\n",
       "    </tr>\n",
       "    <tr>\n",
       "      <th>Senior</th>\n",
       "      <td>2021958</td>\n",
       "      <td>0</td>\n",
       "      <td>6173586</td>\n",
       "      <td>0</td>\n",
       "    </tr>\n",
       "    <tr>\n",
       "      <th>Young Adult</th>\n",
       "      <td>0</td>\n",
       "      <td>1481172</td>\n",
       "      <td>6523363</td>\n",
       "      <td>2660575</td>\n",
       "    </tr>\n",
       "  </tbody>\n",
       "</table>\n",
       "</div>"
      ],
      "text/plain": [
       "family_status  divorced/widowed  living with parents and siblings  married  \\\n",
       "age_group                                                                    \n",
       "Middle Aged              623313                                 0  9046762   \n",
       "Senior                  2021958                                 0  6173586   \n",
       "Young Adult                   0                           1481172  6523363   \n",
       "\n",
       "family_status   single  \n",
       "age_group               \n",
       "Middle Aged    2433835  \n",
       "Senior               0  \n",
       "Young Adult    2660575  "
      ]
     },
     "execution_count": 174,
     "metadata": {},
     "output_type": "execute_result"
    }
   ],
   "source": [
    "crosstab_fam"
   ]
  },
  {
   "cell_type": "markdown",
   "id": "2893c393",
   "metadata": {},
   "source": [
    "## Department"
   ]
  },
  {
   "cell_type": "code",
   "execution_count": 25,
   "id": "bb964397",
   "metadata": {},
   "outputs": [],
   "source": [
    "# Create a data dictionary for departments\n",
    "data_dict = df_department.set_index('department_id')['department'].to_dict()"
   ]
  },
  {
   "cell_type": "code",
   "execution_count": 26,
   "id": "a452cfc5",
   "metadata": {},
   "outputs": [
    {
     "data": {
      "text/plain": [
       "{1: 'frozen',\n",
       " 2: 'other',\n",
       " 3: 'bakery',\n",
       " 4: 'produce',\n",
       " 5: 'alcohol',\n",
       " 6: 'international',\n",
       " 7: 'beverages',\n",
       " 8: 'pets',\n",
       " 9: 'dry goods pasta',\n",
       " 10: 'bulk',\n",
       " 11: 'personal care',\n",
       " 12: 'meat seafood',\n",
       " 13: 'pantry',\n",
       " 14: 'breakfast',\n",
       " 15: 'canned goods',\n",
       " 16: 'dairy eggs',\n",
       " 17: 'household',\n",
       " 18: 'babies',\n",
       " 19: 'snacks',\n",
       " 20: 'deli',\n",
       " 21: 'missing'}"
      ]
     },
     "execution_count": 26,
     "metadata": {},
     "output_type": "execute_result"
    }
   ],
   "source": [
    "data_dict"
   ]
  },
  {
   "cell_type": "code",
   "execution_count": 27,
   "id": "df4b8b51",
   "metadata": {},
   "outputs": [],
   "source": [
    "# Creating a new column to convert department_id\n",
    "df['department'] = df['department_id'].map(data_dict)"
   ]
  },
  {
   "cell_type": "code",
   "execution_count": 28,
   "id": "0bfce24a",
   "metadata": {},
   "outputs": [
    {
     "data": {
      "text/plain": [
       "produce            9079273\n",
       "dairy eggs         5177182\n",
       "snacks             2766406\n",
       "beverages          2571901\n",
       "frozen             2121731\n",
       "pantry             1782705\n",
       "bakery             1120828\n",
       "canned goods       1012074\n",
       "deli               1003834\n",
       "dry goods pasta     822136\n",
       "household           699857\n",
       "meat seafood        674781\n",
       "breakfast           670850\n",
       "personal care       424306\n",
       "babies              410392\n",
       "international       255991\n",
       "alcohol             144627\n",
       "pets                 93060\n",
       "missing              64768\n",
       "other                34411\n",
       "bulk                 33451\n",
       "Name: department, dtype: int64"
      ]
     },
     "execution_count": 28,
     "metadata": {},
     "output_type": "execute_result"
    }
   ],
   "source": [
    "# Checking the values of department_id\n",
    "df['department'].value_counts(dropna = False)"
   ]
  },
  {
   "cell_type": "markdown",
   "id": "4037c87c",
   "metadata": {},
   "source": [
    "## Evaluating Order as per time of day and week"
   ]
  },
  {
   "cell_type": "code",
   "execution_count": 31,
   "id": "34061667",
   "metadata": {},
   "outputs": [
    {
     "data": {
      "text/plain": [
       "10    2649744\n",
       "11    2614880\n",
       "14    2567903\n",
       "13    2539276\n",
       "15    2535966\n",
       "12    2495795\n",
       "16    2413681\n",
       "9     2363611\n",
       "17    1982345\n",
       "8     1659110\n",
       "18    1551184\n",
       "19    1193878\n",
       "20     930909\n",
       "7      863213\n",
       "21     763111\n",
       "22     607060\n",
       "23     384554\n",
       "6      281013\n",
       "0      208042\n",
       "1      109621\n",
       "5       84418\n",
       "2       65691\n",
       "4       50763\n",
       "3       48796\n",
       "Name: order_hour_of_day, dtype: int64"
      ]
     },
     "execution_count": 31,
     "metadata": {},
     "output_type": "execute_result"
    }
   ],
   "source": [
    "df['order_hour_of_day'].value_counts (dropna = False)"
   ]
  },
  {
   "cell_type": "markdown",
   "id": "1d395b47",
   "metadata": {},
   "source": [
    "**Grouping hours basis day time**"
   ]
  },
  {
   "cell_type": "markdown",
   "id": "d5157fed",
   "metadata": {},
   "source": [
    "Day: 8:00am to 4:59pm\n",
    "Evening: 5:00pm to 11:59pm\n",
    "Overnight/Early Morning: 12:00am to 7:59am"
   ]
  },
  {
   "cell_type": "code",
   "execution_count": 32,
   "id": "5755d23c",
   "metadata": {},
   "outputs": [],
   "source": [
    "df.loc[df['order_hour_of_day'].isin([8, 9, 10, 11, 12, 13, 14, 15, 16]), 'time_of_order'] = 'Day'\n",
    "df.loc[df['order_hour_of_day'].isin([17, 18, 19, 20, 21, 22, 23]), 'time_of_order'] = 'Evening'\n",
    "df.loc[df['order_hour_of_day'].isin([ 0, 1, 2, 3, 4, 5, 6, 7]), 'time_of_order'] = 'Overnight'"
   ]
  },
  {
   "cell_type": "code",
   "execution_count": 33,
   "id": "5c0eb7a8",
   "metadata": {},
   "outputs": [
    {
     "data": {
      "text/plain": [
       "Day          21839966\n",
       "Evening       7413041\n",
       "Overnight     1711557\n",
       "Name: time_of_order, dtype: int64"
      ]
     },
     "execution_count": 33,
     "metadata": {},
     "output_type": "execute_result"
    }
   ],
   "source": [
    "# Checking time_of_order counts\n",
    "df['time_of_order'].value_counts(dropna = False)"
   ]
  },
  {
   "cell_type": "code",
   "execution_count": 34,
   "id": "8f9191fb",
   "metadata": {},
   "outputs": [],
   "source": [
    "# Creating a crosstab between dependents and family status\n",
    "crosstab_tim = pd.crosstab(df['family_status'], df['time_of_order'], dropna = False)"
   ]
  },
  {
   "cell_type": "code",
   "execution_count": 35,
   "id": "e99fc8a7",
   "metadata": {},
   "outputs": [
    {
     "data": {
      "text/html": [
       "<div>\n",
       "<style scoped>\n",
       "    .dataframe tbody tr th:only-of-type {\n",
       "        vertical-align: middle;\n",
       "    }\n",
       "\n",
       "    .dataframe tbody tr th {\n",
       "        vertical-align: top;\n",
       "    }\n",
       "\n",
       "    .dataframe thead th {\n",
       "        text-align: right;\n",
       "    }\n",
       "</style>\n",
       "<table border=\"1\" class=\"dataframe\">\n",
       "  <thead>\n",
       "    <tr style=\"text-align: right;\">\n",
       "      <th>time_of_order</th>\n",
       "      <th>Day</th>\n",
       "      <th>Evening</th>\n",
       "      <th>Overnight</th>\n",
       "    </tr>\n",
       "    <tr>\n",
       "      <th>family_status</th>\n",
       "      <th></th>\n",
       "      <th></th>\n",
       "      <th></th>\n",
       "    </tr>\n",
       "  </thead>\n",
       "  <tbody>\n",
       "    <tr>\n",
       "      <th>divorced/widowed</th>\n",
       "      <td>1860966</td>\n",
       "      <td>636304</td>\n",
       "      <td>148001</td>\n",
       "    </tr>\n",
       "    <tr>\n",
       "      <th>living with parents and siblings</th>\n",
       "      <td>1039933</td>\n",
       "      <td>354775</td>\n",
       "      <td>86464</td>\n",
       "    </tr>\n",
       "    <tr>\n",
       "      <th>married</th>\n",
       "      <td>15348487</td>\n",
       "      <td>5201833</td>\n",
       "      <td>1193391</td>\n",
       "    </tr>\n",
       "    <tr>\n",
       "      <th>single</th>\n",
       "      <td>3590580</td>\n",
       "      <td>1220129</td>\n",
       "      <td>283701</td>\n",
       "    </tr>\n",
       "  </tbody>\n",
       "</table>\n",
       "</div>"
      ],
      "text/plain": [
       "time_of_order                          Day  Evening  Overnight\n",
       "family_status                                                 \n",
       "divorced/widowed                   1860966   636304     148001\n",
       "living with parents and siblings   1039933   354775      86464\n",
       "married                           15348487  5201833    1193391\n",
       "single                             3590580  1220129     283701"
      ]
     },
     "execution_count": 35,
     "metadata": {},
     "output_type": "execute_result"
    }
   ],
   "source": [
    "crosstab_tim"
   ]
  },
  {
   "cell_type": "code",
   "execution_count": 36,
   "id": "e452458b",
   "metadata": {},
   "outputs": [
    {
     "data": {
      "text/plain": [
       "0    5908610\n",
       "1    5411686\n",
       "6    4291304\n",
       "5    4033729\n",
       "2    4024706\n",
       "3    3669535\n",
       "4    3624994\n",
       "Name: orders_day_of_week, dtype: int64"
      ]
     },
     "execution_count": 36,
     "metadata": {},
     "output_type": "execute_result"
    }
   ],
   "source": [
    "df['orders_day_of_week'].value_counts()"
   ]
  },
  {
   "cell_type": "markdown",
   "id": "92901c32",
   "metadata": {},
   "source": [
    "**Orders_day_of_week grouped as per the following**"
   ]
  },
  {
   "cell_type": "markdown",
   "id": "a1944e99",
   "metadata": {},
   "source": [
    "Weekdays (2:Monday, 3:Tuesday:, 4:Wednesday, 5:Thursday, 6: Friday)"
   ]
  },
  {
   "cell_type": "markdown",
   "id": "0011a098",
   "metadata": {},
   "source": [
    "Weekend (0:Saturday, 1:Sunday)"
   ]
  },
  {
   "cell_type": "code",
   "execution_count": 37,
   "id": "b2a3c2a1",
   "metadata": {},
   "outputs": [],
   "source": [
    "df.loc[df['orders_day_of_week'].isin([2,3,4,5,6]), 'time_of_week'] = 'Weekdays'\n",
    "df.loc[df['orders_day_of_week'].isin([0,1]), 'time_of_week'] = 'Weekend'"
   ]
  },
  {
   "cell_type": "code",
   "execution_count": 40,
   "id": "d057011d",
   "metadata": {},
   "outputs": [
    {
     "data": {
      "text/plain": [
       "Weekdays    19644268\n",
       "Weekend     11320296\n",
       "Name: time_of_week, dtype: int64"
      ]
     },
     "execution_count": 40,
     "metadata": {},
     "output_type": "execute_result"
    }
   ],
   "source": [
    "df['time_of_week'].value_counts(dropna = False)"
   ]
  },
  {
   "cell_type": "code",
   "execution_count": 41,
   "id": "b6ae46b1",
   "metadata": {},
   "outputs": [],
   "source": [
    "crosstab_week = pd.crosstab(df['time_of_week'], df['time_of_order'], dropna = False)"
   ]
  },
  {
   "cell_type": "code",
   "execution_count": 42,
   "id": "f6caff4d",
   "metadata": {},
   "outputs": [
    {
     "data": {
      "text/html": [
       "<div>\n",
       "<style scoped>\n",
       "    .dataframe tbody tr th:only-of-type {\n",
       "        vertical-align: middle;\n",
       "    }\n",
       "\n",
       "    .dataframe tbody tr th {\n",
       "        vertical-align: top;\n",
       "    }\n",
       "\n",
       "    .dataframe thead th {\n",
       "        text-align: right;\n",
       "    }\n",
       "</style>\n",
       "<table border=\"1\" class=\"dataframe\">\n",
       "  <thead>\n",
       "    <tr style=\"text-align: right;\">\n",
       "      <th>time_of_order</th>\n",
       "      <th>Day</th>\n",
       "      <th>Evening</th>\n",
       "      <th>Overnight</th>\n",
       "    </tr>\n",
       "    <tr>\n",
       "      <th>time_of_week</th>\n",
       "      <th></th>\n",
       "      <th></th>\n",
       "      <th></th>\n",
       "    </tr>\n",
       "  </thead>\n",
       "  <tbody>\n",
       "    <tr>\n",
       "      <th>Weekdays</th>\n",
       "      <td>13589946</td>\n",
       "      <td>4905737</td>\n",
       "      <td>1148585</td>\n",
       "    </tr>\n",
       "    <tr>\n",
       "      <th>Weekend</th>\n",
       "      <td>8250020</td>\n",
       "      <td>2507304</td>\n",
       "      <td>562972</td>\n",
       "    </tr>\n",
       "  </tbody>\n",
       "</table>\n",
       "</div>"
      ],
      "text/plain": [
       "time_of_order       Day  Evening  Overnight\n",
       "time_of_week                               \n",
       "Weekdays       13589946  4905737    1148585\n",
       "Weekend         8250020  2507304     562972"
      ]
     },
     "execution_count": 42,
     "metadata": {},
     "output_type": "execute_result"
    }
   ],
   "source": [
    "crosstab_week"
   ]
  },
  {
   "cell_type": "code",
   "execution_count": 43,
   "id": "86be9c45",
   "metadata": {},
   "outputs": [],
   "source": [
    "crosstab_tw = pd.crosstab(df['family_status'], df['time_of_week'], dropna = False)"
   ]
  },
  {
   "cell_type": "code",
   "execution_count": 44,
   "id": "645c67ec",
   "metadata": {},
   "outputs": [
    {
     "data": {
      "text/html": [
       "<div>\n",
       "<style scoped>\n",
       "    .dataframe tbody tr th:only-of-type {\n",
       "        vertical-align: middle;\n",
       "    }\n",
       "\n",
       "    .dataframe tbody tr th {\n",
       "        vertical-align: top;\n",
       "    }\n",
       "\n",
       "    .dataframe thead th {\n",
       "        text-align: right;\n",
       "    }\n",
       "</style>\n",
       "<table border=\"1\" class=\"dataframe\">\n",
       "  <thead>\n",
       "    <tr style=\"text-align: right;\">\n",
       "      <th>time_of_week</th>\n",
       "      <th>Weekdays</th>\n",
       "      <th>Weekend</th>\n",
       "    </tr>\n",
       "    <tr>\n",
       "      <th>family_status</th>\n",
       "      <th></th>\n",
       "      <th></th>\n",
       "    </tr>\n",
       "  </thead>\n",
       "  <tbody>\n",
       "    <tr>\n",
       "      <th>divorced/widowed</th>\n",
       "      <td>1683567</td>\n",
       "      <td>961704</td>\n",
       "    </tr>\n",
       "    <tr>\n",
       "      <th>living with parents and siblings</th>\n",
       "      <td>940862</td>\n",
       "      <td>540310</td>\n",
       "    </tr>\n",
       "    <tr>\n",
       "      <th>married</th>\n",
       "      <td>13803153</td>\n",
       "      <td>7940558</td>\n",
       "    </tr>\n",
       "    <tr>\n",
       "      <th>single</th>\n",
       "      <td>3216686</td>\n",
       "      <td>1877724</td>\n",
       "    </tr>\n",
       "  </tbody>\n",
       "</table>\n",
       "</div>"
      ],
      "text/plain": [
       "time_of_week                      Weekdays  Weekend\n",
       "family_status                                      \n",
       "divorced/widowed                   1683567   961704\n",
       "living with parents and siblings    940862   540310\n",
       "married                           13803153  7940558\n",
       "single                             3216686  1877724"
      ]
     },
     "execution_count": 44,
     "metadata": {},
     "output_type": "execute_result"
    }
   ],
   "source": [
    "crosstab_tw"
   ]
  },
  {
   "cell_type": "markdown",
   "id": "f0973323",
   "metadata": {},
   "source": [
    "# Visualization"
   ]
  },
  {
   "cell_type": "code",
   "execution_count": 45,
   "id": "1ce11c12",
   "metadata": {},
   "outputs": [
    {
     "data": {
      "text/plain": [
       "(array([0, 1, 2]),\n",
       " [Text(0, 0, 'Middle Aged'), Text(1, 0, 'Young Adult'), Text(2, 0, 'Senior')])"
      ]
     },
     "execution_count": 45,
     "metadata": {},
     "output_type": "execute_result"
    },
    {
     "data": {
      "image/png": "[encoded data removed]",
      "text/plain": [
       "<Figure size 640x480 with 1 Axes>"
      ]
     },
     "metadata": {},
     "output_type": "display_data"
    }
   ],
   "source": [
    "# Creating a bar chart for the age_group\n",
    "bar_age_group = df['age_group'].value_counts().plot.bar()\n",
    "\n",
    "plt.ylabel('Frequency (in millions)', fontsize = 12)\n",
    "plt.xlabel('Age Group', fontsize = 12)\n",
    "plt.xticks(rotation = 0)"
   ]
  },
  {
   "cell_type": "code",
   "execution_count": 123,
   "id": "8254574d",
   "metadata": {},
   "outputs": [],
   "source": [
    "# Exporting the visualization\n",
    "bar_age_group.figure.savefig(os.path.join(path, '04 Analysis', 'Visualization', 'distribution_age_group.png'))"
   ]
  },
  {
   "cell_type": "code",
   "execution_count": 46,
   "id": "8774afd6",
   "metadata": {},
   "outputs": [
    {
     "data": {
      "text/plain": [
       "(array([0, 1, 2]),\n",
       " [Text(0, 0, 'Middle'), Text(1, 0, 'Low'), Text(2, 0, 'High')])"
      ]
     },
     "execution_count": 46,
     "metadata": {},
     "output_type": "execute_result"
    },
    {
     "data": {
      "image/png": "[encoded data removed]",
      "text/plain": [
       "<Figure size 640x480 with 1 Axes>"
      ]
     },
     "metadata": {},
     "output_type": "display_data"
    }
   ],
   "source": [
    "# Creating a bar chart for the income_group\n",
    "bar_income_group = df['income_group'].value_counts().plot.bar()\n",
    "\n",
    "plt.ylabel('Frequency (in millions)', fontsize = 12)\n",
    "plt.xlabel('Income Group', fontsize = 12)\n",
    "plt.xticks(rotation = 0)"
   ]
  },
  {
   "cell_type": "code",
   "execution_count": 124,
   "id": "f6380a74",
   "metadata": {},
   "outputs": [],
   "source": [
    "# Exporting the visualization\n",
    "bar_income_group.figure.savefig(os.path.join(path, '04 Analysis', 'Visualization', 'distribution_income_group.png'))"
   ]
  },
  {
   "cell_type": "code",
   "execution_count": 47,
   "id": "223cd9d9",
   "metadata": {},
   "outputs": [
    {
     "data": {
      "text/plain": [
       "(array([0, 1, 2]),\n",
       " [Text(0, 0, 'Medium Family'),\n",
       "  Text(1, 0, 'Large Family'),\n",
       "  Text(2, 0, 'Single')])"
      ]
     },
     "execution_count": 47,
     "metadata": {},
     "output_type": "execute_result"
    },
    {
     "data": {
      "image/png": "[encoded data removed]",
      "text/plain": [
       "<Figure size 640x480 with 1 Axes>"
      ]
     },
     "metadata": {},
     "output_type": "display_data"
    }
   ],
   "source": [
    "# Creating a bar chart for the household_size\n",
    "bar_household_size = df['household_size'].value_counts().plot.bar()\n",
    "\n",
    "plt.ylabel('Frequency (in millions)', fontsize = 12)\n",
    "plt.xlabel('Household Size', fontsize = 12)\n",
    "plt.xticks(rotation = 0)"
   ]
  },
  {
   "cell_type": "code",
   "execution_count": 125,
   "id": "935e5e4e",
   "metadata": {},
   "outputs": [],
   "source": [
    "# Exporting the visualization\n",
    "bar_household_size.figure.savefig(os.path.join(path, '04 Analysis', 'Visualization', 'distribution_household_size.png'))"
   ]
  },
  {
   "cell_type": "code",
   "execution_count": 49,
   "id": "464e3a0b",
   "metadata": {},
   "outputs": [
    {
     "data": {
      "text/plain": [
       "Text(0.5, 0, 'Departments')"
      ]
     },
     "execution_count": 49,
     "metadata": {},
     "output_type": "execute_result"
    },
    {
     "data": {
      "image/png": "[encoded data removed]",
      "text/plain": [
       "<Figure size 640x480 with 1 Axes>"
      ]
     },
     "metadata": {},
     "output_type": "display_data"
    }
   ],
   "source": [
    "# Creating a bar chart for the departments\n",
    "bar_department = df['department'].value_counts().plot.bar()\n",
    "\n",
    "plt.ylabel('Frequency (in millions)', fontsize = 12)\n",
    "plt.xlabel('Departments', fontsize = 12)"
   ]
  },
  {
   "cell_type": "code",
   "execution_count": 126,
   "id": "9baf593d",
   "metadata": {},
   "outputs": [],
   "source": [
    "# Exporting the visualization\n",
    "bar_department.figure.savefig(os.path.join(path, '04 Analysis', 'Visualization', 'distribution_department.png'))"
   ]
  },
  {
   "cell_type": "code",
   "execution_count": 178,
   "id": "7d5c3f9e",
   "metadata": {},
   "outputs": [
    {
     "data": {
      "text/plain": [
       "Text(0.5, 0, 'Age Group')"
      ]
     },
     "execution_count": 178,
     "metadata": {},
     "output_type": "execute_result"
    },
    {
     "data": {
      "image/png": "[encoded data removed]",
      "text/plain": [
       "<Figure size 640x480 with 1 Axes>"
      ]
     },
     "metadata": {},
     "output_type": "display_data"
    }
   ],
   "source": [
    "# Creating a bar chart for Age group and family status\n",
    "bar_age_fam = crosstab_fam.plot(kind = 'bar', rot = 0, color = sns.color_palette('Blues', 3))\n",
    "bar_age_fam.legend(title = 'Family Status', bbox_to_anchor = (1, 1.02), loc = 'upper left')\n",
    "plt.title('Age Group vs Family Status', fontsize = 20)\n",
    "plt.ylabel('Frequency (in millions)')\n",
    "plt.xlabel('Age Group')"
   ]
  },
  {
   "cell_type": "code",
   "execution_count": 179,
   "id": "1b751587",
   "metadata": {},
   "outputs": [],
   "source": [
    "# Exporting the visualization\n",
    "bar_age_region.figure.savefig(os.path.join(path, '04 Analysis', 'Visualization', 'age_group_vs_family_size.png'), bbox_inches='tight')"
   ]
  },
  {
   "cell_type": "code",
   "execution_count": 51,
   "id": "2e3fd417",
   "metadata": {},
   "outputs": [
    {
     "data": {
      "text/plain": [
       "(array([0, 1, 2]),\n",
       " [Text(0, 0, 'Day'), Text(1, 0, 'Evening'), Text(2, 0, 'Overnight')])"
      ]
     },
     "execution_count": 51,
     "metadata": {},
     "output_type": "execute_result"
    },
    {
     "data": {
      "image/png": "[encoded data removed]",
      "text/plain": [
       "<Figure size 640x480 with 1 Axes>"
      ]
     },
     "metadata": {},
     "output_type": "display_data"
    }
   ],
   "source": [
    "# Creating a bar chart for the orders made as per the time of the day\n",
    "bar_tod = df['time_of_order'].value_counts().plot.bar()\n",
    "\n",
    "plt.ylabel('Frequency (in millions)', fontsize = 12)\n",
    "plt.xlabel('Time of Day', fontsize = 12)\n",
    "plt.xticks(rotation = 0)\n"
   ]
  },
  {
   "cell_type": "code",
   "execution_count": 127,
   "id": "c16bcf90",
   "metadata": {},
   "outputs": [],
   "source": [
    "# Exporting the visualization\n",
    "bar_tod.figure.savefig(os.path.join(path, '04 Analysis', 'Visualization', 'distribution_time_of_day.png'))"
   ]
  },
  {
   "cell_type": "markdown",
   "id": "f623cc9d",
   "metadata": {},
   "source": [
    "# Aggregation (customer profiles)"
   ]
  },
  {
   "cell_type": "code",
   "execution_count": 54,
   "id": "d432d4ae",
   "metadata": {},
   "outputs": [
    {
     "data": {
      "text/html": [
       "<div>\n",
       "<style scoped>\n",
       "    .dataframe tbody tr th:only-of-type {\n",
       "        vertical-align: middle;\n",
       "    }\n",
       "\n",
       "    .dataframe tbody tr th {\n",
       "        vertical-align: top;\n",
       "    }\n",
       "\n",
       "    .dataframe thead tr th {\n",
       "        text-align: left;\n",
       "    }\n",
       "\n",
       "    .dataframe thead tr:last-of-type th {\n",
       "        text-align: right;\n",
       "    }\n",
       "</style>\n",
       "<table border=\"1\" class=\"dataframe\">\n",
       "  <thead>\n",
       "    <tr>\n",
       "      <th></th>\n",
       "      <th colspan=\"3\" halign=\"left\">add_to_cart_order</th>\n",
       "    </tr>\n",
       "    <tr>\n",
       "      <th></th>\n",
       "      <th>mean</th>\n",
       "      <th>min</th>\n",
       "      <th>max</th>\n",
       "    </tr>\n",
       "    <tr>\n",
       "      <th>age_group</th>\n",
       "      <th></th>\n",
       "      <th></th>\n",
       "      <th></th>\n",
       "    </tr>\n",
       "  </thead>\n",
       "  <tbody>\n",
       "    <tr>\n",
       "      <th>Middle Aged</th>\n",
       "      <td>8.354216</td>\n",
       "      <td>1</td>\n",
       "      <td>145</td>\n",
       "    </tr>\n",
       "    <tr>\n",
       "      <th>Senior</th>\n",
       "      <td>8.307779</td>\n",
       "      <td>1</td>\n",
       "      <td>99</td>\n",
       "    </tr>\n",
       "    <tr>\n",
       "      <th>Young Adult</th>\n",
       "      <td>8.415515</td>\n",
       "      <td>1</td>\n",
       "      <td>109</td>\n",
       "    </tr>\n",
       "  </tbody>\n",
       "</table>\n",
       "</div>"
      ],
      "text/plain": [
       "            add_to_cart_order         \n",
       "                         mean min  max\n",
       "age_group                             \n",
       "Middle Aged          8.354216   1  145\n",
       "Senior               8.307779   1   99\n",
       "Young Adult          8.415515   1  109"
      ]
     },
     "execution_count": 54,
     "metadata": {},
     "output_type": "execute_result"
    }
   ],
   "source": [
    "# Age_group aggregation by usage frequency\n",
    "df.groupby('age_group').agg({'add_to_cart_order' : ['mean', 'min', 'max']})"
   ]
  },
  {
   "cell_type": "code",
   "execution_count": 56,
   "id": "4c74b857",
   "metadata": {},
   "outputs": [
    {
     "data": {
      "text/html": [
       "<div>\n",
       "<style scoped>\n",
       "    .dataframe tbody tr th:only-of-type {\n",
       "        vertical-align: middle;\n",
       "    }\n",
       "\n",
       "    .dataframe tbody tr th {\n",
       "        vertical-align: top;\n",
       "    }\n",
       "\n",
       "    .dataframe thead tr th {\n",
       "        text-align: left;\n",
       "    }\n",
       "\n",
       "    .dataframe thead tr:last-of-type th {\n",
       "        text-align: right;\n",
       "    }\n",
       "</style>\n",
       "<table border=\"1\" class=\"dataframe\">\n",
       "  <thead>\n",
       "    <tr>\n",
       "      <th></th>\n",
       "      <th colspan=\"3\" halign=\"left\">prices</th>\n",
       "    </tr>\n",
       "    <tr>\n",
       "      <th></th>\n",
       "      <th>mean</th>\n",
       "      <th>min</th>\n",
       "      <th>max</th>\n",
       "    </tr>\n",
       "    <tr>\n",
       "      <th>age_group</th>\n",
       "      <th></th>\n",
       "      <th></th>\n",
       "      <th></th>\n",
       "    </tr>\n",
       "  </thead>\n",
       "  <tbody>\n",
       "    <tr>\n",
       "      <th>Middle Aged</th>\n",
       "      <td>11.944899</td>\n",
       "      <td>1.0</td>\n",
       "      <td>99999.0</td>\n",
       "    </tr>\n",
       "    <tr>\n",
       "      <th>Senior</th>\n",
       "      <td>11.757768</td>\n",
       "      <td>1.0</td>\n",
       "      <td>99999.0</td>\n",
       "    </tr>\n",
       "    <tr>\n",
       "      <th>Young Adult</th>\n",
       "      <td>12.055665</td>\n",
       "      <td>1.0</td>\n",
       "      <td>99999.0</td>\n",
       "    </tr>\n",
       "  </tbody>\n",
       "</table>\n",
       "</div>"
      ],
      "text/plain": [
       "                prices              \n",
       "                  mean  min      max\n",
       "age_group                           \n",
       "Middle Aged  11.944899  1.0  99999.0\n",
       "Senior       11.757768  1.0  99999.0\n",
       "Young Adult  12.055665  1.0  99999.0"
      ]
     },
     "execution_count": 56,
     "metadata": {},
     "output_type": "execute_result"
    }
   ],
   "source": [
    "# Age_group aggregation by expenditure\n",
    "df.groupby('age_group').agg({'prices' : ['mean', 'min', 'max']})"
   ]
  },
  {
   "cell_type": "markdown",
   "id": "ce90d91f",
   "metadata": {},
   "source": [
    "max value as 99999 for a single supermarket product do not make sense, hence fixing the same"
   ]
  },
  {
   "cell_type": "code",
   "execution_count": 62,
   "id": "a720cf31",
   "metadata": {},
   "outputs": [
    {
     "data": {
      "text/plain": [
       "1.0        109262\n",
       "1.1        232337\n",
       "1.2        242681\n",
       "1.3        407143\n",
       "1.4        374799\n",
       "            ...  \n",
       "24.8          386\n",
       "24.9         5466\n",
       "25.0        13128\n",
       "14900.0      4223\n",
       "99999.0       654\n",
       "Name: prices, Length: 242, dtype: int64"
      ]
     },
     "execution_count": 62,
     "metadata": {},
     "output_type": "execute_result"
    }
   ],
   "source": [
    "df['prices'].value_counts(dropna = False).sort_index()"
   ]
  },
  {
   "cell_type": "code",
   "execution_count": 63,
   "id": "20f82d17",
   "metadata": {},
   "outputs": [],
   "source": [
    "# calculate the mode of the prices\n",
    "mode_value = df['prices'].mode()[0]"
   ]
  },
  {
   "cell_type": "code",
   "execution_count": 64,
   "id": "c9ef33e6",
   "metadata": {},
   "outputs": [
    {
     "data": {
      "text/plain": [
       "12.3"
      ]
     },
     "execution_count": 64,
     "metadata": {},
     "output_type": "execute_result"
    }
   ],
   "source": [
    "mode_value"
   ]
  },
  {
   "cell_type": "code",
   "execution_count": 65,
   "id": "4bcfe963",
   "metadata": {},
   "outputs": [],
   "source": [
    "# create new column with modified values\n",
    "df['prices_mod'] = df['prices'].replace([14900, 99999], mode_value)"
   ]
  },
  {
   "cell_type": "code",
   "execution_count": 66,
   "id": "55c4cec0",
   "metadata": {},
   "outputs": [
    {
     "data": {
      "text/html": [
       "<div>\n",
       "<style scoped>\n",
       "    .dataframe tbody tr th:only-of-type {\n",
       "        vertical-align: middle;\n",
       "    }\n",
       "\n",
       "    .dataframe tbody tr th {\n",
       "        vertical-align: top;\n",
       "    }\n",
       "\n",
       "    .dataframe thead tr th {\n",
       "        text-align: left;\n",
       "    }\n",
       "\n",
       "    .dataframe thead tr:last-of-type th {\n",
       "        text-align: right;\n",
       "    }\n",
       "</style>\n",
       "<table border=\"1\" class=\"dataframe\">\n",
       "  <thead>\n",
       "    <tr>\n",
       "      <th></th>\n",
       "      <th colspan=\"3\" halign=\"left\">prices_mod</th>\n",
       "    </tr>\n",
       "    <tr>\n",
       "      <th></th>\n",
       "      <th>mean</th>\n",
       "      <th>min</th>\n",
       "      <th>max</th>\n",
       "    </tr>\n",
       "    <tr>\n",
       "      <th>age_group</th>\n",
       "      <th></th>\n",
       "      <th></th>\n",
       "      <th></th>\n",
       "    </tr>\n",
       "  </thead>\n",
       "  <tbody>\n",
       "    <tr>\n",
       "      <th>Middle Aged</th>\n",
       "      <td>7.792248</td>\n",
       "      <td>1.0</td>\n",
       "      <td>25.0</td>\n",
       "    </tr>\n",
       "    <tr>\n",
       "      <th>Senior</th>\n",
       "      <td>7.797417</td>\n",
       "      <td>1.0</td>\n",
       "      <td>25.0</td>\n",
       "    </tr>\n",
       "    <tr>\n",
       "      <th>Young Adult</th>\n",
       "      <td>7.785525</td>\n",
       "      <td>1.0</td>\n",
       "      <td>25.0</td>\n",
       "    </tr>\n",
       "  </tbody>\n",
       "</table>\n",
       "</div>"
      ],
      "text/plain": [
       "            prices_mod           \n",
       "                  mean  min   max\n",
       "age_group                        \n",
       "Middle Aged   7.792248  1.0  25.0\n",
       "Senior        7.797417  1.0  25.0\n",
       "Young Adult   7.785525  1.0  25.0"
      ]
     },
     "execution_count": 66,
     "metadata": {},
     "output_type": "execute_result"
    }
   ],
   "source": [
    "# Age_group aggregation by expenditure\n",
    "df.groupby('age_group').agg({'prices_mod' : ['mean', 'min', 'max']})"
   ]
  },
  {
   "cell_type": "code",
   "execution_count": 67,
   "id": "d8c552da",
   "metadata": {},
   "outputs": [
    {
     "data": {
      "text/html": [
       "<div>\n",
       "<style scoped>\n",
       "    .dataframe tbody tr th:only-of-type {\n",
       "        vertical-align: middle;\n",
       "    }\n",
       "\n",
       "    .dataframe tbody tr th {\n",
       "        vertical-align: top;\n",
       "    }\n",
       "\n",
       "    .dataframe thead tr th {\n",
       "        text-align: left;\n",
       "    }\n",
       "\n",
       "    .dataframe thead tr:last-of-type th {\n",
       "        text-align: right;\n",
       "    }\n",
       "</style>\n",
       "<table border=\"1\" class=\"dataframe\">\n",
       "  <thead>\n",
       "    <tr>\n",
       "      <th></th>\n",
       "      <th colspan=\"3\" halign=\"left\">add_to_cart_order</th>\n",
       "    </tr>\n",
       "    <tr>\n",
       "      <th></th>\n",
       "      <th>mean</th>\n",
       "      <th>min</th>\n",
       "      <th>max</th>\n",
       "    </tr>\n",
       "    <tr>\n",
       "      <th>income_group</th>\n",
       "      <th></th>\n",
       "      <th></th>\n",
       "      <th></th>\n",
       "    </tr>\n",
       "  </thead>\n",
       "  <tbody>\n",
       "    <tr>\n",
       "      <th>High</th>\n",
       "      <td>8.526584</td>\n",
       "      <td>1</td>\n",
       "      <td>121</td>\n",
       "    </tr>\n",
       "    <tr>\n",
       "      <th>Low</th>\n",
       "      <td>7.389054</td>\n",
       "      <td>1</td>\n",
       "      <td>137</td>\n",
       "    </tr>\n",
       "    <tr>\n",
       "      <th>Middle</th>\n",
       "      <td>8.491350</td>\n",
       "      <td>1</td>\n",
       "      <td>145</td>\n",
       "    </tr>\n",
       "  </tbody>\n",
       "</table>\n",
       "</div>"
      ],
      "text/plain": [
       "             add_to_cart_order         \n",
       "                          mean min  max\n",
       "income_group                           \n",
       "High                  8.526584   1  121\n",
       "Low                   7.389054   1  137\n",
       "Middle                8.491350   1  145"
      ]
     },
     "execution_count": 67,
     "metadata": {},
     "output_type": "execute_result"
    }
   ],
   "source": [
    "# Income_group aggregation by usage frequency\n",
    "df.groupby('income_group').agg({'add_to_cart_order' : ['mean', 'min', 'max']})"
   ]
  },
  {
   "cell_type": "code",
   "execution_count": 68,
   "id": "79cb0560",
   "metadata": {},
   "outputs": [
    {
     "data": {
      "text/html": [
       "<div>\n",
       "<style scoped>\n",
       "    .dataframe tbody tr th:only-of-type {\n",
       "        vertical-align: middle;\n",
       "    }\n",
       "\n",
       "    .dataframe tbody tr th {\n",
       "        vertical-align: top;\n",
       "    }\n",
       "\n",
       "    .dataframe thead tr th {\n",
       "        text-align: left;\n",
       "    }\n",
       "\n",
       "    .dataframe thead tr:last-of-type th {\n",
       "        text-align: right;\n",
       "    }\n",
       "</style>\n",
       "<table border=\"1\" class=\"dataframe\">\n",
       "  <thead>\n",
       "    <tr>\n",
       "      <th></th>\n",
       "      <th colspan=\"3\" halign=\"left\">prices_mod</th>\n",
       "    </tr>\n",
       "    <tr>\n",
       "      <th></th>\n",
       "      <th>mean</th>\n",
       "      <th>min</th>\n",
       "      <th>max</th>\n",
       "    </tr>\n",
       "    <tr>\n",
       "      <th>income_group</th>\n",
       "      <th></th>\n",
       "      <th></th>\n",
       "      <th></th>\n",
       "    </tr>\n",
       "  </thead>\n",
       "  <tbody>\n",
       "    <tr>\n",
       "      <th>High</th>\n",
       "      <td>7.942472</td>\n",
       "      <td>1.0</td>\n",
       "      <td>25.0</td>\n",
       "    </tr>\n",
       "    <tr>\n",
       "      <th>Low</th>\n",
       "      <td>6.766241</td>\n",
       "      <td>1.0</td>\n",
       "      <td>25.0</td>\n",
       "    </tr>\n",
       "    <tr>\n",
       "      <th>Middle</th>\n",
       "      <td>7.928672</td>\n",
       "      <td>1.0</td>\n",
       "      <td>25.0</td>\n",
       "    </tr>\n",
       "  </tbody>\n",
       "</table>\n",
       "</div>"
      ],
      "text/plain": [
       "             prices_mod           \n",
       "                   mean  min   max\n",
       "income_group                      \n",
       "High           7.942472  1.0  25.0\n",
       "Low            6.766241  1.0  25.0\n",
       "Middle         7.928672  1.0  25.0"
      ]
     },
     "execution_count": 68,
     "metadata": {},
     "output_type": "execute_result"
    }
   ],
   "source": [
    "# Income Group aggregation by expenditure\n",
    "df.groupby('income_group').agg({'prices_mod' : ['mean', 'min', 'max']})"
   ]
  },
  {
   "cell_type": "code",
   "execution_count": 69,
   "id": "984b29b4",
   "metadata": {},
   "outputs": [
    {
     "data": {
      "text/html": [
       "<div>\n",
       "<style scoped>\n",
       "    .dataframe tbody tr th:only-of-type {\n",
       "        vertical-align: middle;\n",
       "    }\n",
       "\n",
       "    .dataframe tbody tr th {\n",
       "        vertical-align: top;\n",
       "    }\n",
       "\n",
       "    .dataframe thead tr th {\n",
       "        text-align: left;\n",
       "    }\n",
       "\n",
       "    .dataframe thead tr:last-of-type th {\n",
       "        text-align: right;\n",
       "    }\n",
       "</style>\n",
       "<table border=\"1\" class=\"dataframe\">\n",
       "  <thead>\n",
       "    <tr>\n",
       "      <th></th>\n",
       "      <th colspan=\"3\" halign=\"left\">add_to_cart_order</th>\n",
       "    </tr>\n",
       "    <tr>\n",
       "      <th></th>\n",
       "      <th>mean</th>\n",
       "      <th>min</th>\n",
       "      <th>max</th>\n",
       "    </tr>\n",
       "    <tr>\n",
       "      <th>household_size</th>\n",
       "      <th></th>\n",
       "      <th></th>\n",
       "      <th></th>\n",
       "    </tr>\n",
       "  </thead>\n",
       "  <tbody>\n",
       "    <tr>\n",
       "      <th>Large Family</th>\n",
       "      <td>8.375061</td>\n",
       "      <td>1</td>\n",
       "      <td>145</td>\n",
       "    </tr>\n",
       "    <tr>\n",
       "      <th>Medium Family</th>\n",
       "      <td>8.370250</td>\n",
       "      <td>1</td>\n",
       "      <td>114</td>\n",
       "    </tr>\n",
       "    <tr>\n",
       "      <th>Single</th>\n",
       "      <td>8.336567</td>\n",
       "      <td>1</td>\n",
       "      <td>137</td>\n",
       "    </tr>\n",
       "  </tbody>\n",
       "</table>\n",
       "</div>"
      ],
      "text/plain": [
       "               add_to_cart_order         \n",
       "                            mean min  max\n",
       "household_size                           \n",
       "Large Family            8.375061   1  145\n",
       "Medium Family           8.370250   1  114\n",
       "Single                  8.336567   1  137"
      ]
     },
     "execution_count": 69,
     "metadata": {},
     "output_type": "execute_result"
    }
   ],
   "source": [
    "# Family size aggregation by usage frequency\n",
    "df.groupby('household_size').agg({'add_to_cart_order' : ['mean', 'min', 'max']})"
   ]
  },
  {
   "cell_type": "code",
   "execution_count": 70,
   "id": "59fd20c4",
   "metadata": {},
   "outputs": [
    {
     "data": {
      "text/html": [
       "<div>\n",
       "<style scoped>\n",
       "    .dataframe tbody tr th:only-of-type {\n",
       "        vertical-align: middle;\n",
       "    }\n",
       "\n",
       "    .dataframe tbody tr th {\n",
       "        vertical-align: top;\n",
       "    }\n",
       "\n",
       "    .dataframe thead tr th {\n",
       "        text-align: left;\n",
       "    }\n",
       "\n",
       "    .dataframe thead tr:last-of-type th {\n",
       "        text-align: right;\n",
       "    }\n",
       "</style>\n",
       "<table border=\"1\" class=\"dataframe\">\n",
       "  <thead>\n",
       "    <tr>\n",
       "      <th></th>\n",
       "      <th colspan=\"3\" halign=\"left\">prices_mod</th>\n",
       "    </tr>\n",
       "    <tr>\n",
       "      <th></th>\n",
       "      <th>mean</th>\n",
       "      <th>min</th>\n",
       "      <th>max</th>\n",
       "    </tr>\n",
       "    <tr>\n",
       "      <th>household_size</th>\n",
       "      <th></th>\n",
       "      <th></th>\n",
       "      <th></th>\n",
       "    </tr>\n",
       "  </thead>\n",
       "  <tbody>\n",
       "    <tr>\n",
       "      <th>Large Family</th>\n",
       "      <td>7.793586</td>\n",
       "      <td>1.0</td>\n",
       "      <td>25.0</td>\n",
       "    </tr>\n",
       "    <tr>\n",
       "      <th>Medium Family</th>\n",
       "      <td>7.790685</td>\n",
       "      <td>1.0</td>\n",
       "      <td>25.0</td>\n",
       "    </tr>\n",
       "    <tr>\n",
       "      <th>Single</th>\n",
       "      <td>7.790233</td>\n",
       "      <td>1.0</td>\n",
       "      <td>25.0</td>\n",
       "    </tr>\n",
       "  </tbody>\n",
       "</table>\n",
       "</div>"
      ],
      "text/plain": [
       "               prices_mod           \n",
       "                     mean  min   max\n",
       "household_size                      \n",
       "Large Family     7.793586  1.0  25.0\n",
       "Medium Family    7.790685  1.0  25.0\n",
       "Single           7.790233  1.0  25.0"
      ]
     },
     "execution_count": 70,
     "metadata": {},
     "output_type": "execute_result"
    }
   ],
   "source": [
    "# Family size aggregation by expenditure\n",
    "df.groupby('household_size').agg({'prices_mod' : ['mean', 'min', 'max']})"
   ]
  },
  {
   "cell_type": "markdown",
   "id": "f3f8b7e5",
   "metadata": {},
   "source": [
    "# Comparing customer profiles with regions and departments"
   ]
  },
  {
   "cell_type": "code",
   "execution_count": 71,
   "id": "bf71ecb5",
   "metadata": {},
   "outputs": [],
   "source": [
    "# Comparing age_group across regions\n",
    "crosstab_age_region = pd.crosstab(df['region'], df['age_group'], dropna = False)"
   ]
  },
  {
   "cell_type": "code",
   "execution_count": 72,
   "id": "151a862b",
   "metadata": {
    "scrolled": true
   },
   "outputs": [
    {
     "data": {
      "text/html": [
       "<div>\n",
       "<style scoped>\n",
       "    .dataframe tbody tr th:only-of-type {\n",
       "        vertical-align: middle;\n",
       "    }\n",
       "\n",
       "    .dataframe tbody tr th {\n",
       "        vertical-align: top;\n",
       "    }\n",
       "\n",
       "    .dataframe thead th {\n",
       "        text-align: right;\n",
       "    }\n",
       "</style>\n",
       "<table border=\"1\" class=\"dataframe\">\n",
       "  <thead>\n",
       "    <tr style=\"text-align: right;\">\n",
       "      <th>age_group</th>\n",
       "      <th>Middle Aged</th>\n",
       "      <th>Senior</th>\n",
       "      <th>Young Adult</th>\n",
       "    </tr>\n",
       "    <tr>\n",
       "      <th>region</th>\n",
       "      <th></th>\n",
       "      <th></th>\n",
       "      <th></th>\n",
       "    </tr>\n",
       "  </thead>\n",
       "  <tbody>\n",
       "    <tr>\n",
       "      <th>Midwest</th>\n",
       "      <td>2874466</td>\n",
       "      <td>1904046</td>\n",
       "      <td>2483001</td>\n",
       "    </tr>\n",
       "    <tr>\n",
       "      <th>Northeast</th>\n",
       "      <td>2108141</td>\n",
       "      <td>1484807</td>\n",
       "      <td>1871737</td>\n",
       "    </tr>\n",
       "    <tr>\n",
       "      <th>South</th>\n",
       "      <td>3994431</td>\n",
       "      <td>2708461</td>\n",
       "      <td>3608247</td>\n",
       "    </tr>\n",
       "    <tr>\n",
       "      <th>West</th>\n",
       "      <td>3126872</td>\n",
       "      <td>2098230</td>\n",
       "      <td>2702125</td>\n",
       "    </tr>\n",
       "  </tbody>\n",
       "</table>\n",
       "</div>"
      ],
      "text/plain": [
       "age_group  Middle Aged   Senior  Young Adult\n",
       "region                                      \n",
       "Midwest        2874466  1904046      2483001\n",
       "Northeast      2108141  1484807      1871737\n",
       "South          3994431  2708461      3608247\n",
       "West           3126872  2098230      2702125"
      ]
     },
     "execution_count": 72,
     "metadata": {},
     "output_type": "execute_result"
    }
   ],
   "source": [
    "crosstab_age_region"
   ]
  },
  {
   "cell_type": "code",
   "execution_count": 129,
   "id": "59d03ad1",
   "metadata": {},
   "outputs": [
    {
     "data": {
      "text/plain": [
       "Text(0.5, 0, 'Regions')"
      ]
     },
     "execution_count": 129,
     "metadata": {},
     "output_type": "execute_result"
    },
    {
     "data": {
      "image/png": "[encoded data removed]",
      "text/plain": [
       "<Figure size 640x480 with 1 Axes>"
      ]
     },
     "metadata": {},
     "output_type": "display_data"
    }
   ],
   "source": [
    "# Creating a bar chart for age_group and region\n",
    "bar_age_region = crosstab_age_region.plot(kind = 'bar', rot = 0, color = ['blue','orange', 'green'])\n",
    "bar_age_region.legend(title = 'Age Group', bbox_to_anchor = (1, 1.02), loc = 'upper left')\n",
    "plt.title('Age Groups Across Regions', fontweight = 'bold')\n",
    "plt.ylabel('Frequency (in millions)')\n",
    "plt.xlabel('Regions')"
   ]
  },
  {
   "cell_type": "code",
   "execution_count": 161,
   "id": "a7b56e7f",
   "metadata": {},
   "outputs": [],
   "source": [
    "# Exporting the visualization\n",
    "bar_age_region.figure.savefig(os.path.join(path, '04 Analysis', 'Visualization', 'age_group_across_region.png'), bbox_inches='tight')"
   ]
  },
  {
   "cell_type": "code",
   "execution_count": 81,
   "id": "0effb9e7",
   "metadata": {},
   "outputs": [],
   "source": [
    "# Compare age groups across departments\n",
    "crosstab_age_dep = pd.crosstab(df['department'], df['age_group'], dropna = False)"
   ]
  },
  {
   "cell_type": "code",
   "execution_count": 82,
   "id": "57d18397",
   "metadata": {},
   "outputs": [
    {
     "data": {
      "text/html": [
       "<div>\n",
       "<style scoped>\n",
       "    .dataframe tbody tr th:only-of-type {\n",
       "        vertical-align: middle;\n",
       "    }\n",
       "\n",
       "    .dataframe tbody tr th {\n",
       "        vertical-align: top;\n",
       "    }\n",
       "\n",
       "    .dataframe thead th {\n",
       "        text-align: right;\n",
       "    }\n",
       "</style>\n",
       "<table border=\"1\" class=\"dataframe\">\n",
       "  <thead>\n",
       "    <tr style=\"text-align: right;\">\n",
       "      <th>age_group</th>\n",
       "      <th>Middle Aged</th>\n",
       "      <th>Senior</th>\n",
       "      <th>Young Adult</th>\n",
       "    </tr>\n",
       "    <tr>\n",
       "      <th>department</th>\n",
       "      <th></th>\n",
       "      <th></th>\n",
       "      <th></th>\n",
       "    </tr>\n",
       "  </thead>\n",
       "  <tbody>\n",
       "    <tr>\n",
       "      <th>alcohol</th>\n",
       "      <td>56278</td>\n",
       "      <td>36693</td>\n",
       "      <td>51656</td>\n",
       "    </tr>\n",
       "    <tr>\n",
       "      <th>babies</th>\n",
       "      <td>162732</td>\n",
       "      <td>106204</td>\n",
       "      <td>141456</td>\n",
       "    </tr>\n",
       "    <tr>\n",
       "      <th>bakery</th>\n",
       "      <td>438829</td>\n",
       "      <td>295997</td>\n",
       "      <td>386002</td>\n",
       "    </tr>\n",
       "    <tr>\n",
       "      <th>beverages</th>\n",
       "      <td>1013708</td>\n",
       "      <td>684020</td>\n",
       "      <td>874173</td>\n",
       "    </tr>\n",
       "    <tr>\n",
       "      <th>breakfast</th>\n",
       "      <td>263615</td>\n",
       "      <td>175296</td>\n",
       "      <td>231939</td>\n",
       "    </tr>\n",
       "    <tr>\n",
       "      <th>bulk</th>\n",
       "      <td>12882</td>\n",
       "      <td>8945</td>\n",
       "      <td>11624</td>\n",
       "    </tr>\n",
       "    <tr>\n",
       "      <th>canned goods</th>\n",
       "      <td>394849</td>\n",
       "      <td>267509</td>\n",
       "      <td>349716</td>\n",
       "    </tr>\n",
       "    <tr>\n",
       "      <th>dairy eggs</th>\n",
       "      <td>2015807</td>\n",
       "      <td>1368072</td>\n",
       "      <td>1793303</td>\n",
       "    </tr>\n",
       "    <tr>\n",
       "      <th>deli</th>\n",
       "      <td>392790</td>\n",
       "      <td>265199</td>\n",
       "      <td>345845</td>\n",
       "    </tr>\n",
       "    <tr>\n",
       "      <th>dry goods pasta</th>\n",
       "      <td>321321</td>\n",
       "      <td>217316</td>\n",
       "      <td>283499</td>\n",
       "    </tr>\n",
       "    <tr>\n",
       "      <th>frozen</th>\n",
       "      <td>830678</td>\n",
       "      <td>564250</td>\n",
       "      <td>726803</td>\n",
       "    </tr>\n",
       "    <tr>\n",
       "      <th>household</th>\n",
       "      <td>274122</td>\n",
       "      <td>186630</td>\n",
       "      <td>239105</td>\n",
       "    </tr>\n",
       "    <tr>\n",
       "      <th>international</th>\n",
       "      <td>99946</td>\n",
       "      <td>67199</td>\n",
       "      <td>88846</td>\n",
       "    </tr>\n",
       "    <tr>\n",
       "      <th>meat seafood</th>\n",
       "      <td>263132</td>\n",
       "      <td>181150</td>\n",
       "      <td>230499</td>\n",
       "    </tr>\n",
       "    <tr>\n",
       "      <th>missing</th>\n",
       "      <td>25354</td>\n",
       "      <td>16915</td>\n",
       "      <td>22499</td>\n",
       "    </tr>\n",
       "    <tr>\n",
       "      <th>other</th>\n",
       "      <td>13347</td>\n",
       "      <td>8946</td>\n",
       "      <td>12118</td>\n",
       "    </tr>\n",
       "    <tr>\n",
       "      <th>pantry</th>\n",
       "      <td>698160</td>\n",
       "      <td>472383</td>\n",
       "      <td>612162</td>\n",
       "    </tr>\n",
       "    <tr>\n",
       "      <th>personal care</th>\n",
       "      <td>168447</td>\n",
       "      <td>111052</td>\n",
       "      <td>144807</td>\n",
       "    </tr>\n",
       "    <tr>\n",
       "      <th>pets</th>\n",
       "      <td>36027</td>\n",
       "      <td>25115</td>\n",
       "      <td>31918</td>\n",
       "    </tr>\n",
       "    <tr>\n",
       "      <th>produce</th>\n",
       "      <td>3542316</td>\n",
       "      <td>2408104</td>\n",
       "      <td>3128853</td>\n",
       "    </tr>\n",
       "    <tr>\n",
       "      <th>snacks</th>\n",
       "      <td>1079570</td>\n",
       "      <td>728549</td>\n",
       "      <td>958287</td>\n",
       "    </tr>\n",
       "  </tbody>\n",
       "</table>\n",
       "</div>"
      ],
      "text/plain": [
       "age_group        Middle Aged   Senior  Young Adult\n",
       "department                                        \n",
       "alcohol                56278    36693        51656\n",
       "babies                162732   106204       141456\n",
       "bakery                438829   295997       386002\n",
       "beverages            1013708   684020       874173\n",
       "breakfast             263615   175296       231939\n",
       "bulk                   12882     8945        11624\n",
       "canned goods          394849   267509       349716\n",
       "dairy eggs           2015807  1368072      1793303\n",
       "deli                  392790   265199       345845\n",
       "dry goods pasta       321321   217316       283499\n",
       "frozen                830678   564250       726803\n",
       "household             274122   186630       239105\n",
       "international          99946    67199        88846\n",
       "meat seafood          263132   181150       230499\n",
       "missing                25354    16915        22499\n",
       "other                  13347     8946        12118\n",
       "pantry                698160   472383       612162\n",
       "personal care         168447   111052       144807\n",
       "pets                   36027    25115        31918\n",
       "produce              3542316  2408104      3128853\n",
       "snacks               1079570   728549       958287"
      ]
     },
     "execution_count": 82,
     "metadata": {},
     "output_type": "execute_result"
    }
   ],
   "source": [
    "crosstab_age_dep"
   ]
  },
  {
   "cell_type": "code",
   "execution_count": 131,
   "id": "731b5589",
   "metadata": {},
   "outputs": [
    {
     "data": {
      "text/plain": [
       "(array([ 0,  1,  2,  3,  4,  5,  6,  7,  8,  9, 10, 11, 12, 13, 14, 15, 16,\n",
       "        17, 18, 19, 20]),\n",
       " [Text(0, 0, 'alcohol'),\n",
       "  Text(1, 0, 'babies'),\n",
       "  Text(2, 0, 'bakery'),\n",
       "  Text(3, 0, 'beverages'),\n",
       "  Text(4, 0, 'breakfast'),\n",
       "  Text(5, 0, 'bulk'),\n",
       "  Text(6, 0, 'canned goods'),\n",
       "  Text(7, 0, 'dairy eggs'),\n",
       "  Text(8, 0, 'deli'),\n",
       "  Text(9, 0, 'dry goods pasta'),\n",
       "  Text(10, 0, 'frozen'),\n",
       "  Text(11, 0, 'household'),\n",
       "  Text(12, 0, 'international'),\n",
       "  Text(13, 0, 'meat seafood'),\n",
       "  Text(14, 0, 'missing'),\n",
       "  Text(15, 0, 'other'),\n",
       "  Text(16, 0, 'pantry'),\n",
       "  Text(17, 0, 'personal care'),\n",
       "  Text(18, 0, 'pets'),\n",
       "  Text(19, 0, 'produce'),\n",
       "  Text(20, 0, 'snacks')])"
      ]
     },
     "execution_count": 131,
     "metadata": {},
     "output_type": "execute_result"
    },
    {
     "data": {
      "image/png": "[encoded data removed]",
      "text/plain": [
       "<Figure size 640x480 with 1 Axes>"
      ]
     },
     "metadata": {},
     "output_type": "display_data"
    }
   ],
   "source": [
    "# Create a bar chart for age_group and department\n",
    "bar_age_department = crosstab_age_dep.plot(kind = 'bar', rot = 0, color = ['blue', 'orange', 'green'])\n",
    "bar_age_department.legend(title = 'Age Group', bbox_to_anchor = (1, 1.02), loc = 'upper left')\n",
    "plt.title('Age Groups Across Departments', fontweight = 'bold')\n",
    "plt.ylabel('Frequency (in millions)')\n",
    "plt.xlabel('Departments')\n",
    "plt.xticks(rotation = 90)"
   ]
  },
  {
   "cell_type": "code",
   "execution_count": 132,
   "id": "23d54f7f",
   "metadata": {},
   "outputs": [],
   "source": [
    "# Exporting the visualization\n",
    "bar_age_department.figure.savefig(os.path.join(path, '04 Analysis', 'Visualization', 'age_group_across_department.png'))"
   ]
  },
  {
   "cell_type": "code",
   "execution_count": 89,
   "id": "efe64a46",
   "metadata": {},
   "outputs": [],
   "source": [
    "# Compare income groups across regions\n",
    "crosstab_income_reg = pd.crosstab(df['region'], df['income_group'], dropna = False)"
   ]
  },
  {
   "cell_type": "code",
   "execution_count": 90,
   "id": "a592b31c",
   "metadata": {},
   "outputs": [
    {
     "data": {
      "text/html": [
       "<div>\n",
       "<style scoped>\n",
       "    .dataframe tbody tr th:only-of-type {\n",
       "        vertical-align: middle;\n",
       "    }\n",
       "\n",
       "    .dataframe tbody tr th {\n",
       "        vertical-align: top;\n",
       "    }\n",
       "\n",
       "    .dataframe thead th {\n",
       "        text-align: right;\n",
       "    }\n",
       "</style>\n",
       "<table border=\"1\" class=\"dataframe\">\n",
       "  <thead>\n",
       "    <tr style=\"text-align: right;\">\n",
       "      <th>income_group</th>\n",
       "      <th>High</th>\n",
       "      <th>Low</th>\n",
       "      <th>Middle</th>\n",
       "    </tr>\n",
       "    <tr>\n",
       "      <th>region</th>\n",
       "      <th></th>\n",
       "      <th></th>\n",
       "      <th></th>\n",
       "    </tr>\n",
       "  </thead>\n",
       "  <tbody>\n",
       "    <tr>\n",
       "      <th>Midwest</th>\n",
       "      <td>635230</td>\n",
       "      <td>864462</td>\n",
       "      <td>5761821</td>\n",
       "    </tr>\n",
       "    <tr>\n",
       "      <th>Northeast</th>\n",
       "      <td>475835</td>\n",
       "      <td>648484</td>\n",
       "      <td>4340366</td>\n",
       "    </tr>\n",
       "    <tr>\n",
       "      <th>South</th>\n",
       "      <td>920051</td>\n",
       "      <td>1257064</td>\n",
       "      <td>8134024</td>\n",
       "    </tr>\n",
       "    <tr>\n",
       "      <th>West</th>\n",
       "      <td>700407</td>\n",
       "      <td>921698</td>\n",
       "      <td>6305122</td>\n",
       "    </tr>\n",
       "  </tbody>\n",
       "</table>\n",
       "</div>"
      ],
      "text/plain": [
       "income_group    High      Low   Middle\n",
       "region                                \n",
       "Midwest       635230   864462  5761821\n",
       "Northeast     475835   648484  4340366\n",
       "South         920051  1257064  8134024\n",
       "West          700407   921698  6305122"
      ]
     },
     "execution_count": 90,
     "metadata": {},
     "output_type": "execute_result"
    }
   ],
   "source": [
    "crosstab_income_reg"
   ]
  },
  {
   "cell_type": "code",
   "execution_count": 133,
   "id": "4f1e9895",
   "metadata": {},
   "outputs": [
    {
     "data": {
      "text/plain": [
       "Text(0.5, 0, 'Regions')"
      ]
     },
     "execution_count": 133,
     "metadata": {},
     "output_type": "execute_result"
    },
    {
     "data": {
      "image/png": "[encoded data removed]",
      "text/plain": [
       "<Figure size 640x480 with 1 Axes>"
      ]
     },
     "metadata": {},
     "output_type": "display_data"
    }
   ],
   "source": [
    "# Creating a bar chart for income group and region\n",
    "bar_income_region = crosstab_income_reg.plot(kind = 'bar', rot = 0, color = ['purple','pink', 'magenta'])\n",
    "bar_income_region.legend(title = 'Income Group', bbox_to_anchor = (1, 1.02), loc = 'upper left')\n",
    "plt.title('Income Groups Across Regions', fontweight = 'bold')\n",
    "plt.ylabel('Frequency (in millions)')\n",
    "plt.xlabel('Regions')"
   ]
  },
  {
   "cell_type": "code",
   "execution_count": 164,
   "id": "2b9ed35b",
   "metadata": {},
   "outputs": [],
   "source": [
    "# Exporting the visualization\n",
    "bar_income_region.figure.savefig(os.path.join(path, '04 Analysis', 'Visualization', 'Income_group_across_region.png'), bbox_inches='tight')"
   ]
  },
  {
   "cell_type": "code",
   "execution_count": 92,
   "id": "fd90f9fe",
   "metadata": {},
   "outputs": [],
   "source": [
    "# Compare income groups across departments\n",
    "crosstab_income_dep = pd.crosstab(df['department'], df['income_group'], dropna = False)"
   ]
  },
  {
   "cell_type": "code",
   "execution_count": 93,
   "id": "a6ec5941",
   "metadata": {},
   "outputs": [
    {
     "data": {
      "text/html": [
       "<div>\n",
       "<style scoped>\n",
       "    .dataframe tbody tr th:only-of-type {\n",
       "        vertical-align: middle;\n",
       "    }\n",
       "\n",
       "    .dataframe tbody tr th {\n",
       "        vertical-align: top;\n",
       "    }\n",
       "\n",
       "    .dataframe thead th {\n",
       "        text-align: right;\n",
       "    }\n",
       "</style>\n",
       "<table border=\"1\" class=\"dataframe\">\n",
       "  <thead>\n",
       "    <tr style=\"text-align: right;\">\n",
       "      <th>income_group</th>\n",
       "      <th>High</th>\n",
       "      <th>Low</th>\n",
       "      <th>Middle</th>\n",
       "    </tr>\n",
       "    <tr>\n",
       "      <th>department</th>\n",
       "      <th></th>\n",
       "      <th></th>\n",
       "      <th></th>\n",
       "    </tr>\n",
       "  </thead>\n",
       "  <tbody>\n",
       "    <tr>\n",
       "      <th>alcohol</th>\n",
       "      <td>18471</td>\n",
       "      <td>19346</td>\n",
       "      <td>106810</td>\n",
       "    </tr>\n",
       "    <tr>\n",
       "      <th>babies</th>\n",
       "      <td>37021</td>\n",
       "      <td>34026</td>\n",
       "      <td>339345</td>\n",
       "    </tr>\n",
       "    <tr>\n",
       "      <th>bakery</th>\n",
       "      <td>106473</td>\n",
       "      <td>118157</td>\n",
       "      <td>896198</td>\n",
       "    </tr>\n",
       "    <tr>\n",
       "      <th>beverages</th>\n",
       "      <td>222318</td>\n",
       "      <td>413096</td>\n",
       "      <td>1936487</td>\n",
       "    </tr>\n",
       "    <tr>\n",
       "      <th>breakfast</th>\n",
       "      <td>57630</td>\n",
       "      <td>99160</td>\n",
       "      <td>514060</td>\n",
       "    </tr>\n",
       "    <tr>\n",
       "      <th>bulk</th>\n",
       "      <td>2403</td>\n",
       "      <td>5060</td>\n",
       "      <td>25988</td>\n",
       "    </tr>\n",
       "    <tr>\n",
       "      <th>canned goods</th>\n",
       "      <td>93729</td>\n",
       "      <td>88560</td>\n",
       "      <td>829785</td>\n",
       "    </tr>\n",
       "    <tr>\n",
       "      <th>dairy eggs</th>\n",
       "      <td>462999</td>\n",
       "      <td>555091</td>\n",
       "      <td>4159092</td>\n",
       "    </tr>\n",
       "    <tr>\n",
       "      <th>deli</th>\n",
       "      <td>88793</td>\n",
       "      <td>116835</td>\n",
       "      <td>798206</td>\n",
       "    </tr>\n",
       "    <tr>\n",
       "      <th>dry goods pasta</th>\n",
       "      <td>75261</td>\n",
       "      <td>72665</td>\n",
       "      <td>674210</td>\n",
       "    </tr>\n",
       "    <tr>\n",
       "      <th>frozen</th>\n",
       "      <td>194899</td>\n",
       "      <td>237009</td>\n",
       "      <td>1689823</td>\n",
       "    </tr>\n",
       "    <tr>\n",
       "      <th>household</th>\n",
       "      <td>66413</td>\n",
       "      <td>94423</td>\n",
       "      <td>539021</td>\n",
       "    </tr>\n",
       "    <tr>\n",
       "      <th>international</th>\n",
       "      <td>23088</td>\n",
       "      <td>23973</td>\n",
       "      <td>208930</td>\n",
       "    </tr>\n",
       "    <tr>\n",
       "      <th>meat seafood</th>\n",
       "      <td>64427</td>\n",
       "      <td>39506</td>\n",
       "      <td>570848</td>\n",
       "    </tr>\n",
       "    <tr>\n",
       "      <th>missing</th>\n",
       "      <td>5684</td>\n",
       "      <td>7210</td>\n",
       "      <td>51874</td>\n",
       "    </tr>\n",
       "    <tr>\n",
       "      <th>other</th>\n",
       "      <td>3172</td>\n",
       "      <td>4229</td>\n",
       "      <td>27010</td>\n",
       "    </tr>\n",
       "    <tr>\n",
       "      <th>pantry</th>\n",
       "      <td>163141</td>\n",
       "      <td>183673</td>\n",
       "      <td>1435891</td>\n",
       "    </tr>\n",
       "    <tr>\n",
       "      <th>personal care</th>\n",
       "      <td>37877</td>\n",
       "      <td>52136</td>\n",
       "      <td>334293</td>\n",
       "    </tr>\n",
       "    <tr>\n",
       "      <th>pets</th>\n",
       "      <td>9539</td>\n",
       "      <td>9550</td>\n",
       "      <td>73971</td>\n",
       "    </tr>\n",
       "    <tr>\n",
       "      <th>produce</th>\n",
       "      <td>784420</td>\n",
       "      <td>918925</td>\n",
       "      <td>7375928</td>\n",
       "    </tr>\n",
       "    <tr>\n",
       "      <th>snacks</th>\n",
       "      <td>213765</td>\n",
       "      <td>599078</td>\n",
       "      <td>1953563</td>\n",
       "    </tr>\n",
       "  </tbody>\n",
       "</table>\n",
       "</div>"
      ],
      "text/plain": [
       "income_group       High     Low   Middle\n",
       "department                              \n",
       "alcohol           18471   19346   106810\n",
       "babies            37021   34026   339345\n",
       "bakery           106473  118157   896198\n",
       "beverages        222318  413096  1936487\n",
       "breakfast         57630   99160   514060\n",
       "bulk               2403    5060    25988\n",
       "canned goods      93729   88560   829785\n",
       "dairy eggs       462999  555091  4159092\n",
       "deli              88793  116835   798206\n",
       "dry goods pasta   75261   72665   674210\n",
       "frozen           194899  237009  1689823\n",
       "household         66413   94423   539021\n",
       "international     23088   23973   208930\n",
       "meat seafood      64427   39506   570848\n",
       "missing            5684    7210    51874\n",
       "other              3172    4229    27010\n",
       "pantry           163141  183673  1435891\n",
       "personal care     37877   52136   334293\n",
       "pets               9539    9550    73971\n",
       "produce          784420  918925  7375928\n",
       "snacks           213765  599078  1953563"
      ]
     },
     "execution_count": 93,
     "metadata": {},
     "output_type": "execute_result"
    }
   ],
   "source": [
    "crosstab_income_dep"
   ]
  },
  {
   "cell_type": "code",
   "execution_count": 136,
   "id": "982521ba",
   "metadata": {},
   "outputs": [
    {
     "data": {
      "text/plain": [
       "(array([ 0,  1,  2,  3,  4,  5,  6,  7,  8,  9, 10, 11, 12, 13, 14, 15, 16,\n",
       "        17, 18, 19, 20]),\n",
       " [Text(0, 0, 'alcohol'),\n",
       "  Text(1, 0, 'babies'),\n",
       "  Text(2, 0, 'bakery'),\n",
       "  Text(3, 0, 'beverages'),\n",
       "  Text(4, 0, 'breakfast'),\n",
       "  Text(5, 0, 'bulk'),\n",
       "  Text(6, 0, 'canned goods'),\n",
       "  Text(7, 0, 'dairy eggs'),\n",
       "  Text(8, 0, 'deli'),\n",
       "  Text(9, 0, 'dry goods pasta'),\n",
       "  Text(10, 0, 'frozen'),\n",
       "  Text(11, 0, 'household'),\n",
       "  Text(12, 0, 'international'),\n",
       "  Text(13, 0, 'meat seafood'),\n",
       "  Text(14, 0, 'missing'),\n",
       "  Text(15, 0, 'other'),\n",
       "  Text(16, 0, 'pantry'),\n",
       "  Text(17, 0, 'personal care'),\n",
       "  Text(18, 0, 'pets'),\n",
       "  Text(19, 0, 'produce'),\n",
       "  Text(20, 0, 'snacks')])"
      ]
     },
     "execution_count": 136,
     "metadata": {},
     "output_type": "execute_result"
    },
    {
     "data": {
      "image/png": "[encoded data removed]",
      "text/plain": [
       "<Figure size 640x480 with 1 Axes>"
      ]
     },
     "metadata": {},
     "output_type": "display_data"
    }
   ],
   "source": [
    "# Create a bar chart for income group and department\n",
    "bar_income_department = crosstab_income_dep.plot(kind = 'bar', rot = 0, color = ['purple','pink', 'magenta'])\n",
    "bar_age_department.legend(title = 'Income Group', bbox_to_anchor = (1, 1.02), loc = 'upper left')\n",
    "plt.title('Income Groups Across Departments', fontweight = 'bold')\n",
    "plt.ylabel('Frequency (in millions)')\n",
    "plt.xlabel('Departments')\n",
    "plt.xticks(rotation = 90)"
   ]
  },
  {
   "cell_type": "code",
   "execution_count": 137,
   "id": "bf0ff4a0",
   "metadata": {},
   "outputs": [],
   "source": [
    "# Exporting the visualization\n",
    "bar_income_department.figure.savefig(os.path.join(path, '04 Analysis', 'Visualization', 'Income_group_across_department.png'))"
   ]
  },
  {
   "cell_type": "code",
   "execution_count": 95,
   "id": "483605de",
   "metadata": {},
   "outputs": [],
   "source": [
    "# Compare family size across regions\n",
    "crosstab_family_reg = pd.crosstab(df['region'], df['household_size'], dropna = False)\n"
   ]
  },
  {
   "cell_type": "code",
   "execution_count": 96,
   "id": "b74e3a45",
   "metadata": {},
   "outputs": [
    {
     "data": {
      "text/html": [
       "<div>\n",
       "<style scoped>\n",
       "    .dataframe tbody tr th:only-of-type {\n",
       "        vertical-align: middle;\n",
       "    }\n",
       "\n",
       "    .dataframe tbody tr th {\n",
       "        vertical-align: top;\n",
       "    }\n",
       "\n",
       "    .dataframe thead th {\n",
       "        text-align: right;\n",
       "    }\n",
       "</style>\n",
       "<table border=\"1\" class=\"dataframe\">\n",
       "  <thead>\n",
       "    <tr style=\"text-align: right;\">\n",
       "      <th>household_size</th>\n",
       "      <th>Large Family</th>\n",
       "      <th>Medium Family</th>\n",
       "      <th>Single</th>\n",
       "    </tr>\n",
       "    <tr>\n",
       "      <th>region</th>\n",
       "      <th></th>\n",
       "      <th></th>\n",
       "      <th></th>\n",
       "    </tr>\n",
       "  </thead>\n",
       "  <tbody>\n",
       "    <tr>\n",
       "      <th>Midwest</th>\n",
       "      <td>1787286</td>\n",
       "      <td>3651411</td>\n",
       "      <td>1822816</td>\n",
       "    </tr>\n",
       "    <tr>\n",
       "      <th>Northeast</th>\n",
       "      <td>1381233</td>\n",
       "      <td>2728970</td>\n",
       "      <td>1354482</td>\n",
       "    </tr>\n",
       "    <tr>\n",
       "      <th>South</th>\n",
       "      <td>2585864</td>\n",
       "      <td>5143342</td>\n",
       "      <td>2581933</td>\n",
       "    </tr>\n",
       "    <tr>\n",
       "      <th>West</th>\n",
       "      <td>2018133</td>\n",
       "      <td>3928644</td>\n",
       "      <td>1980450</td>\n",
       "    </tr>\n",
       "  </tbody>\n",
       "</table>\n",
       "</div>"
      ],
      "text/plain": [
       "household_size  Large Family  Medium Family   Single\n",
       "region                                              \n",
       "Midwest              1787286        3651411  1822816\n",
       "Northeast            1381233        2728970  1354482\n",
       "South                2585864        5143342  2581933\n",
       "West                 2018133        3928644  1980450"
      ]
     },
     "execution_count": 96,
     "metadata": {},
     "output_type": "execute_result"
    }
   ],
   "source": [
    "crosstab_family_reg"
   ]
  },
  {
   "cell_type": "code",
   "execution_count": 138,
   "id": "cbab42d3",
   "metadata": {},
   "outputs": [
    {
     "data": {
      "text/plain": [
       "Text(0.5, 0, 'Regions')"
      ]
     },
     "execution_count": 138,
     "metadata": {},
     "output_type": "execute_result"
    },
    {
     "data": {
      "image/png": "[encoded data removed]",
      "text/plain": [
       "<Figure size 640x480 with 1 Axes>"
      ]
     },
     "metadata": {},
     "output_type": "display_data"
    }
   ],
   "source": [
    "# Creating a bar chart for family size and region\n",
    "bar_family_region = crosstab_family_reg.plot(kind = 'bar', rot = 0, color = ['#A52A2A','#9C661F', '#DEB887'])\n",
    "bar_family_region.legend(title = 'Family Size', bbox_to_anchor = (1, 1.02), loc = 'upper left')\n",
    "plt.title('Family Size Across Regions', fontweight = 'bold')\n",
    "plt.ylabel('Frequency (in millions)')\n",
    "plt.xlabel('Regions')"
   ]
  },
  {
   "cell_type": "code",
   "execution_count": 163,
   "id": "543da1c1",
   "metadata": {},
   "outputs": [],
   "source": [
    "# Exporting the visualization\n",
    "bar_family_region.figure.savefig(os.path.join(path, '04 Analysis', 'Visualization', 'Family_size_across_region.png'), bbox_inches='tight')"
   ]
  },
  {
   "cell_type": "code",
   "execution_count": 99,
   "id": "0ac57493",
   "metadata": {},
   "outputs": [],
   "source": [
    "# Compare family size across departments\n",
    "crosstab_family_dep = pd.crosstab(df['department'], df['household_size'], dropna = False)"
   ]
  },
  {
   "cell_type": "code",
   "execution_count": 100,
   "id": "8b8c7d6e",
   "metadata": {},
   "outputs": [
    {
     "data": {
      "text/html": [
       "<div>\n",
       "<style scoped>\n",
       "    .dataframe tbody tr th:only-of-type {\n",
       "        vertical-align: middle;\n",
       "    }\n",
       "\n",
       "    .dataframe tbody tr th {\n",
       "        vertical-align: top;\n",
       "    }\n",
       "\n",
       "    .dataframe thead th {\n",
       "        text-align: right;\n",
       "    }\n",
       "</style>\n",
       "<table border=\"1\" class=\"dataframe\">\n",
       "  <thead>\n",
       "    <tr style=\"text-align: right;\">\n",
       "      <th>household_size</th>\n",
       "      <th>Large Family</th>\n",
       "      <th>Medium Family</th>\n",
       "      <th>Single</th>\n",
       "    </tr>\n",
       "    <tr>\n",
       "      <th>department</th>\n",
       "      <th></th>\n",
       "      <th></th>\n",
       "      <th></th>\n",
       "    </tr>\n",
       "  </thead>\n",
       "  <tbody>\n",
       "    <tr>\n",
       "      <th>alcohol</th>\n",
       "      <td>37333</td>\n",
       "      <td>70467</td>\n",
       "      <td>36827</td>\n",
       "    </tr>\n",
       "    <tr>\n",
       "      <th>babies</th>\n",
       "      <td>102585</td>\n",
       "      <td>204479</td>\n",
       "      <td>103328</td>\n",
       "    </tr>\n",
       "    <tr>\n",
       "      <th>bakery</th>\n",
       "      <td>279822</td>\n",
       "      <td>559611</td>\n",
       "      <td>281395</td>\n",
       "    </tr>\n",
       "    <tr>\n",
       "      <th>beverages</th>\n",
       "      <td>640927</td>\n",
       "      <td>1285633</td>\n",
       "      <td>645341</td>\n",
       "    </tr>\n",
       "    <tr>\n",
       "      <th>breakfast</th>\n",
       "      <td>167322</td>\n",
       "      <td>337096</td>\n",
       "      <td>166432</td>\n",
       "    </tr>\n",
       "    <tr>\n",
       "      <th>bulk</th>\n",
       "      <td>8403</td>\n",
       "      <td>17048</td>\n",
       "      <td>8000</td>\n",
       "    </tr>\n",
       "    <tr>\n",
       "      <th>canned goods</th>\n",
       "      <td>255325</td>\n",
       "      <td>505729</td>\n",
       "      <td>251020</td>\n",
       "    </tr>\n",
       "    <tr>\n",
       "      <th>dairy eggs</th>\n",
       "      <td>1296264</td>\n",
       "      <td>2586542</td>\n",
       "      <td>1294376</td>\n",
       "    </tr>\n",
       "    <tr>\n",
       "      <th>deli</th>\n",
       "      <td>252592</td>\n",
       "      <td>497860</td>\n",
       "      <td>253382</td>\n",
       "    </tr>\n",
       "    <tr>\n",
       "      <th>dry goods pasta</th>\n",
       "      <td>208412</td>\n",
       "      <td>409428</td>\n",
       "      <td>204296</td>\n",
       "    </tr>\n",
       "    <tr>\n",
       "      <th>frozen</th>\n",
       "      <td>532408</td>\n",
       "      <td>1059975</td>\n",
       "      <td>529348</td>\n",
       "    </tr>\n",
       "    <tr>\n",
       "      <th>household</th>\n",
       "      <td>176284</td>\n",
       "      <td>352215</td>\n",
       "      <td>171358</td>\n",
       "    </tr>\n",
       "    <tr>\n",
       "      <th>international</th>\n",
       "      <td>63473</td>\n",
       "      <td>128057</td>\n",
       "      <td>64461</td>\n",
       "    </tr>\n",
       "    <tr>\n",
       "      <th>meat seafood</th>\n",
       "      <td>171423</td>\n",
       "      <td>337480</td>\n",
       "      <td>165878</td>\n",
       "    </tr>\n",
       "    <tr>\n",
       "      <th>missing</th>\n",
       "      <td>16435</td>\n",
       "      <td>32398</td>\n",
       "      <td>15935</td>\n",
       "    </tr>\n",
       "    <tr>\n",
       "      <th>other</th>\n",
       "      <td>8377</td>\n",
       "      <td>17320</td>\n",
       "      <td>8714</td>\n",
       "    </tr>\n",
       "    <tr>\n",
       "      <th>pantry</th>\n",
       "      <td>446156</td>\n",
       "      <td>892645</td>\n",
       "      <td>443904</td>\n",
       "    </tr>\n",
       "    <tr>\n",
       "      <th>personal care</th>\n",
       "      <td>106315</td>\n",
       "      <td>211786</td>\n",
       "      <td>106205</td>\n",
       "    </tr>\n",
       "    <tr>\n",
       "      <th>pets</th>\n",
       "      <td>23142</td>\n",
       "      <td>46316</td>\n",
       "      <td>23602</td>\n",
       "    </tr>\n",
       "    <tr>\n",
       "      <th>produce</th>\n",
       "      <td>2287719</td>\n",
       "      <td>4516113</td>\n",
       "      <td>2275441</td>\n",
       "    </tr>\n",
       "    <tr>\n",
       "      <th>snacks</th>\n",
       "      <td>691799</td>\n",
       "      <td>1384169</td>\n",
       "      <td>690438</td>\n",
       "    </tr>\n",
       "  </tbody>\n",
       "</table>\n",
       "</div>"
      ],
      "text/plain": [
       "household_size   Large Family  Medium Family   Single\n",
       "department                                           \n",
       "alcohol                 37333          70467    36827\n",
       "babies                 102585         204479   103328\n",
       "bakery                 279822         559611   281395\n",
       "beverages              640927        1285633   645341\n",
       "breakfast              167322         337096   166432\n",
       "bulk                     8403          17048     8000\n",
       "canned goods           255325         505729   251020\n",
       "dairy eggs            1296264        2586542  1294376\n",
       "deli                   252592         497860   253382\n",
       "dry goods pasta        208412         409428   204296\n",
       "frozen                 532408        1059975   529348\n",
       "household              176284         352215   171358\n",
       "international           63473         128057    64461\n",
       "meat seafood           171423         337480   165878\n",
       "missing                 16435          32398    15935\n",
       "other                    8377          17320     8714\n",
       "pantry                 446156         892645   443904\n",
       "personal care          106315         211786   106205\n",
       "pets                    23142          46316    23602\n",
       "produce               2287719        4516113  2275441\n",
       "snacks                 691799        1384169   690438"
      ]
     },
     "execution_count": 100,
     "metadata": {},
     "output_type": "execute_result"
    }
   ],
   "source": [
    "crosstab_family_dep"
   ]
  },
  {
   "cell_type": "code",
   "execution_count": 140,
   "id": "bea84cf6",
   "metadata": {},
   "outputs": [
    {
     "data": {
      "text/plain": [
       "(array([ 0,  1,  2,  3,  4,  5,  6,  7,  8,  9, 10, 11, 12, 13, 14, 15, 16,\n",
       "        17, 18, 19, 20]),\n",
       " [Text(0, 0, 'alcohol'),\n",
       "  Text(1, 0, 'babies'),\n",
       "  Text(2, 0, 'bakery'),\n",
       "  Text(3, 0, 'beverages'),\n",
       "  Text(4, 0, 'breakfast'),\n",
       "  Text(5, 0, 'bulk'),\n",
       "  Text(6, 0, 'canned goods'),\n",
       "  Text(7, 0, 'dairy eggs'),\n",
       "  Text(8, 0, 'deli'),\n",
       "  Text(9, 0, 'dry goods pasta'),\n",
       "  Text(10, 0, 'frozen'),\n",
       "  Text(11, 0, 'household'),\n",
       "  Text(12, 0, 'international'),\n",
       "  Text(13, 0, 'meat seafood'),\n",
       "  Text(14, 0, 'missing'),\n",
       "  Text(15, 0, 'other'),\n",
       "  Text(16, 0, 'pantry'),\n",
       "  Text(17, 0, 'personal care'),\n",
       "  Text(18, 0, 'pets'),\n",
       "  Text(19, 0, 'produce'),\n",
       "  Text(20, 0, 'snacks')])"
      ]
     },
     "execution_count": 140,
     "metadata": {},
     "output_type": "execute_result"
    },
    {
     "data": {
      "image/png": "[encoded data removed]",
      "text/plain": [
       "<Figure size 640x480 with 1 Axes>"
      ]
     },
     "metadata": {},
     "output_type": "display_data"
    }
   ],
   "source": [
    "# Create a bar chart for family size and department\n",
    "bar_family_department = crosstab_family_dep.plot(kind = 'bar', rot = 0, color = ['#A52A2A','#9C661F', '#DEB887'])\n",
    "bar_age_department.legend(title = 'Family Size', bbox_to_anchor = (1, 1.02), loc = 'upper left')\n",
    "plt.title('Family Size Across Departments', fontweight = 'bold')\n",
    "plt.ylabel('Frequency (in millions)')\n",
    "plt.xlabel('Departments')\n",
    "plt.xticks(rotation = 90)"
   ]
  },
  {
   "cell_type": "code",
   "execution_count": 141,
   "id": "a21c09ba",
   "metadata": {},
   "outputs": [],
   "source": [
    "# Exporting the visualization\n",
    "bar_family_department.figure.savefig(os.path.join(path, '04 Analysis', 'Visualization', 'family_size_across_department.png'))"
   ]
  },
  {
   "cell_type": "markdown",
   "id": "5fdb43ac",
   "metadata": {},
   "source": [
    "**On comparing different customer profiles with region and departments, it is found that Region: south and department: Produce is leading across the profiles**"
   ]
  },
  {
   "cell_type": "markdown",
   "id": "046106e9",
   "metadata": {},
   "source": [
    "# Data Points for Sales and Marketing team"
   ]
  },
  {
   "cell_type": "markdown",
   "id": "982b3e21",
   "metadata": {},
   "source": [
    "## Busiest Days of the week"
   ]
  },
  {
   "cell_type": "code",
   "execution_count": 102,
   "id": "4d4b8325",
   "metadata": {},
   "outputs": [
    {
     "data": {
      "image/png": "[encoded data removed]",
      "text/plain": [
       "<Figure size 640x480 with 1 Axes>"
      ]
     },
     "metadata": {},
     "output_type": "display_data"
    }
   ],
   "source": [
    "# Creating bar chart\n",
    "busiest_days = df['orders_day_of_week'].plot.hist(bins = 13)\n",
    "plt.title('Busiest Days of the Week', fontweight = 'bold')\n",
    "plt.xlabel('Days of the Week (0 = Saturday)')\n",
    "plt.show()"
   ]
  },
  {
   "cell_type": "code",
   "execution_count": 142,
   "id": "03e4ed46",
   "metadata": {},
   "outputs": [],
   "source": [
    "# Exporting visualization\n",
    "busiest_days.figure.savefig(os.path.join(path, '04 Analysis','Visualization', 'busiest_day_of_week.png'))"
   ]
  },
  {
   "cell_type": "markdown",
   "id": "8d5c8d71",
   "metadata": {},
   "source": [
    "Busiest days are Saturday, Sunday followed by Friday"
   ]
  },
  {
   "cell_type": "markdown",
   "id": "2ce4f8ed",
   "metadata": {},
   "source": [
    "## Busiest hour of the day"
   ]
  },
  {
   "cell_type": "code",
   "execution_count": 103,
   "id": "2a936249",
   "metadata": {},
   "outputs": [
    {
     "data": {
      "image/png": "[encoded data removed]",
      "text/plain": [
       "<Figure size 640x480 with 1 Axes>"
      ]
     },
     "metadata": {},
     "output_type": "display_data"
    }
   ],
   "source": [
    "# Creating a bar chart\n",
    "busiest_hours = df['order_hour_of_day'].plot.hist(bins = 47)\n",
    "plt.title('Busiest Hour of the Day', fontweight = 'bold')\n",
    "plt.xlabel('Hour of the Day')\n",
    "plt.show()"
   ]
  },
  {
   "cell_type": "code",
   "execution_count": 143,
   "id": "d8bf1c69",
   "metadata": {},
   "outputs": [],
   "source": [
    "# Exporting visualization\n",
    "busiest_hours.figure.savefig(os.path.join(path, '04 Analysis','Visualization', 'busiest_hour_of_day.png'))"
   ]
  },
  {
   "cell_type": "markdown",
   "id": "b20e697a",
   "metadata": {},
   "source": [
    "## Busiest hours of the day based on price"
   ]
  },
  {
   "cell_type": "code",
   "execution_count": 104,
   "id": "81a24656",
   "metadata": {},
   "outputs": [
    {
     "data": {
      "text/html": [
       "<div>\n",
       "<style scoped>\n",
       "    .dataframe tbody tr th:only-of-type {\n",
       "        vertical-align: middle;\n",
       "    }\n",
       "\n",
       "    .dataframe tbody tr th {\n",
       "        vertical-align: top;\n",
       "    }\n",
       "\n",
       "    .dataframe thead tr th {\n",
       "        text-align: left;\n",
       "    }\n",
       "\n",
       "    .dataframe thead tr:last-of-type th {\n",
       "        text-align: right;\n",
       "    }\n",
       "</style>\n",
       "<table border=\"1\" class=\"dataframe\">\n",
       "  <thead>\n",
       "    <tr>\n",
       "      <th></th>\n",
       "      <th>prices_mod</th>\n",
       "    </tr>\n",
       "    <tr>\n",
       "      <th></th>\n",
       "      <th>sum</th>\n",
       "    </tr>\n",
       "    <tr>\n",
       "      <th>order_hour_of_day</th>\n",
       "      <th></th>\n",
       "    </tr>\n",
       "  </thead>\n",
       "  <tbody>\n",
       "    <tr>\n",
       "      <th>10</th>\n",
       "      <td>20532810.3</td>\n",
       "    </tr>\n",
       "    <tr>\n",
       "      <th>11</th>\n",
       "      <td>20320495.0</td>\n",
       "    </tr>\n",
       "    <tr>\n",
       "      <th>14</th>\n",
       "      <td>20037882.1</td>\n",
       "    </tr>\n",
       "    <tr>\n",
       "      <th>15</th>\n",
       "      <td>19796343.3</td>\n",
       "    </tr>\n",
       "    <tr>\n",
       "      <th>13</th>\n",
       "      <td>19790153.2</td>\n",
       "    </tr>\n",
       "    <tr>\n",
       "      <th>12</th>\n",
       "      <td>19444460.1</td>\n",
       "    </tr>\n",
       "    <tr>\n",
       "      <th>16</th>\n",
       "      <td>18834059.6</td>\n",
       "    </tr>\n",
       "    <tr>\n",
       "      <th>9</th>\n",
       "      <td>18324411.7</td>\n",
       "    </tr>\n",
       "    <tr>\n",
       "      <th>17</th>\n",
       "      <td>15478259.9</td>\n",
       "    </tr>\n",
       "    <tr>\n",
       "      <th>8</th>\n",
       "      <td>12925483.7</td>\n",
       "    </tr>\n",
       "    <tr>\n",
       "      <th>18</th>\n",
       "      <td>12114703.2</td>\n",
       "    </tr>\n",
       "    <tr>\n",
       "      <th>19</th>\n",
       "      <td>9306779.3</td>\n",
       "    </tr>\n",
       "    <tr>\n",
       "      <th>20</th>\n",
       "      <td>7262195.4</td>\n",
       "    </tr>\n",
       "    <tr>\n",
       "      <th>7</th>\n",
       "      <td>6752143.8</td>\n",
       "    </tr>\n",
       "    <tr>\n",
       "      <th>21</th>\n",
       "      <td>5957131.1</td>\n",
       "    </tr>\n",
       "    <tr>\n",
       "      <th>22</th>\n",
       "      <td>4745529.0</td>\n",
       "    </tr>\n",
       "    <tr>\n",
       "      <th>23</th>\n",
       "      <td>2998388.8</td>\n",
       "    </tr>\n",
       "    <tr>\n",
       "      <th>6</th>\n",
       "      <td>2197666.0</td>\n",
       "    </tr>\n",
       "    <tr>\n",
       "      <th>0</th>\n",
       "      <td>1625327.3</td>\n",
       "    </tr>\n",
       "    <tr>\n",
       "      <th>1</th>\n",
       "      <td>855852.4</td>\n",
       "    </tr>\n",
       "    <tr>\n",
       "      <th>5</th>\n",
       "      <td>661177.7</td>\n",
       "    </tr>\n",
       "    <tr>\n",
       "      <th>2</th>\n",
       "      <td>512706.1</td>\n",
       "    </tr>\n",
       "    <tr>\n",
       "      <th>4</th>\n",
       "      <td>398137.7</td>\n",
       "    </tr>\n",
       "    <tr>\n",
       "      <th>3</th>\n",
       "      <td>382126.0</td>\n",
       "    </tr>\n",
       "  </tbody>\n",
       "</table>\n",
       "</div>"
      ],
      "text/plain": [
       "                   prices_mod\n",
       "                          sum\n",
       "order_hour_of_day            \n",
       "10                 20532810.3\n",
       "11                 20320495.0\n",
       "14                 20037882.1\n",
       "15                 19796343.3\n",
       "13                 19790153.2\n",
       "12                 19444460.1\n",
       "16                 18834059.6\n",
       "9                  18324411.7\n",
       "17                 15478259.9\n",
       "8                  12925483.7\n",
       "18                 12114703.2\n",
       "19                  9306779.3\n",
       "20                  7262195.4\n",
       "7                   6752143.8\n",
       "21                  5957131.1\n",
       "22                  4745529.0\n",
       "23                  2998388.8\n",
       "6                   2197666.0\n",
       "0                   1625327.3\n",
       "1                    855852.4\n",
       "5                    661177.7\n",
       "2                    512706.1\n",
       "4                    398137.7\n",
       "3                    382126.0"
      ]
     },
     "execution_count": 104,
     "metadata": {},
     "output_type": "execute_result"
    }
   ],
   "source": [
    "# Finding total price spent based on hour of day\n",
    "busiest_hours_price = df.groupby('order_hour_of_day').agg({'prices_mod' : ['sum']})\n",
    "busiest_hours_price = busiest_hours_price.sort_values(by=('prices_mod', 'sum'), ascending=False)\n",
    "busiest_hours_price"
   ]
  },
  {
   "cell_type": "code",
   "execution_count": 105,
   "id": "87a46a48",
   "metadata": {},
   "outputs": [
    {
     "data": {
      "image/png": "[encoded data removed]",
      "text/plain": [
       "<Figure size 640x480 with 1 Axes>"
      ]
     },
     "metadata": {},
     "output_type": "display_data"
    }
   ],
   "source": [
    "# Creating bar chart for busiest hour of the day based on price\n",
    "busiest_hours_price_bar = busiest_hours_price.plot.bar(legend = None)\n",
    "plt.title('Busiest Hour of the Day Based on Price', fontweight = 'bold')\n",
    "plt.xlabel('Hour of the Day')\n",
    "plt.show()"
   ]
  },
  {
   "cell_type": "markdown",
   "id": "31e0669b",
   "metadata": {},
   "source": [
    "Busiest hour of the day is 10"
   ]
  },
  {
   "cell_type": "code",
   "execution_count": 144,
   "id": "be11062a",
   "metadata": {},
   "outputs": [],
   "source": [
    "# Exporting visualization\n",
    "busiest_hours_price_bar.figure.savefig(os.path.join(path, '04 Analysis','Visualization', 'busiest_hour_of_day_basis_price.png'))"
   ]
  },
  {
   "cell_type": "markdown",
   "id": "2f22733a",
   "metadata": {},
   "source": [
    "## Busiest Department during busiest hour"
   ]
  },
  {
   "cell_type": "code",
   "execution_count": 106,
   "id": "e701e092",
   "metadata": {},
   "outputs": [],
   "source": [
    "busiest_hour_dept = df[df['order_hour_of_day'] == 10]"
   ]
  },
  {
   "cell_type": "code",
   "execution_count": 107,
   "id": "dc26816a",
   "metadata": {},
   "outputs": [
    {
     "data": {
      "text/plain": [
       "produce            769161\n",
       "dairy eggs         452024\n",
       "snacks             253121\n",
       "beverages          235794\n",
       "frozen             161795\n",
       "pantry             151101\n",
       "bakery              94111\n",
       "canned goods        85592\n",
       "deli                84703\n",
       "dry goods pasta     65753\n",
       "household           60760\n",
       "breakfast           59956\n",
       "meat seafood        54477\n",
       "personal care       35364\n",
       "babies              33241\n",
       "international       21558\n",
       "alcohol             12694\n",
       "pets                 7194\n",
       "missing              5526\n",
       "bulk                 2994\n",
       "other                2825\n",
       "Name: department, dtype: int64"
      ]
     },
     "execution_count": 107,
     "metadata": {},
     "output_type": "execute_result"
    }
   ],
   "source": [
    "busiest_hour_dept['department'].value_counts(dropna = False)"
   ]
  },
  {
   "cell_type": "code",
   "execution_count": 108,
   "id": "0f6af863",
   "metadata": {},
   "outputs": [
    {
     "data": {
      "image/png": "[encoded data removed]",
      "text/plain": [
       "<Figure size 640x480 with 1 Axes>"
      ]
     },
     "metadata": {},
     "output_type": "display_data"
    }
   ],
   "source": [
    "# Creating bar chart for departments at busiest hour of the day\n",
    "dept_count = busiest_hour_dept['department'].value_counts(dropna=False)\n",
    "busiest_dept = dept_count.plot.bar()\n",
    "plt.title('Busiest Department at busiest hour', fontweight='bold')\n",
    "plt.xlabel('Department')\n",
    "plt.ylabel('Number of Orders')\n",
    "plt.show()"
   ]
  },
  {
   "cell_type": "code",
   "execution_count": 145,
   "id": "81523e3f",
   "metadata": {},
   "outputs": [],
   "source": [
    "# Exporting visualization\n",
    "busiest_dept.figure.savefig(os.path.join(path, '04 Analysis','Visualization', 'busiest_department_at_busiest_hour.png'))"
   ]
  },
  {
   "cell_type": "markdown",
   "id": "d25a7396",
   "metadata": {},
   "source": [
    "## Low vs High Spender"
   ]
  },
  {
   "cell_type": "code",
   "execution_count": 110,
   "id": "d958526d",
   "metadata": {},
   "outputs": [
    {
     "data": {
      "text/plain": [
       "Low spender     30361139\n",
       "High spender      603425\n",
       "Name: spending_flag, dtype: int64"
      ]
     },
     "execution_count": 110,
     "metadata": {},
     "output_type": "execute_result"
    }
   ],
   "source": [
    "df['spending_flag'].value_counts(dropna = False)"
   ]
  },
  {
   "cell_type": "code",
   "execution_count": 111,
   "id": "2433b915",
   "metadata": {},
   "outputs": [
    {
     "data": {
      "image/png": "[encoded data removed]",
      "text/plain": [
       "<Figure size 640x480 with 1 Axes>"
      ]
     },
     "metadata": {},
     "output_type": "display_data"
    }
   ],
   "source": [
    "# Creating spending flag pie chart\n",
    "spending_flag_pie = df['spending_flag'].value_counts(dropna = False).plot.pie(title = 'Spending Category', label = '', autopct = ('%1.f%%'))\n"
   ]
  },
  {
   "cell_type": "code",
   "execution_count": 146,
   "id": "282192c2",
   "metadata": {},
   "outputs": [],
   "source": [
    "# Exporting spending flag pie chart\n",
    "\n",
    "spending_flag_pie.figure.savefig(os.path.join(path, '04 Analysis', 'Visualization', 'low_vs_high_spender.png'))"
   ]
  },
  {
   "cell_type": "markdown",
   "id": "4ec166a0",
   "metadata": {},
   "source": [
    "## Relation between Customer Loyalty and Orders"
   ]
  },
  {
   "cell_type": "code",
   "execution_count": 112,
   "id": "55a5b638",
   "metadata": {},
   "outputs": [
    {
     "data": {
      "text/plain": [
       "Regular customer    15876776\n",
       "Loyal customer      10284093\n",
       "New customer         4803695\n",
       "Name: loyalty_flag, dtype: int64"
      ]
     },
     "execution_count": 112,
     "metadata": {},
     "output_type": "execute_result"
    }
   ],
   "source": [
    "df['loyalty_flag'].value_counts(dropna = False)"
   ]
  },
  {
   "cell_type": "code",
   "execution_count": 113,
   "id": "a881a85f",
   "metadata": {},
   "outputs": [
    {
     "data": {
      "text/plain": [
       "Frequent customer        21204476\n",
       "Regular customer          6865113\n",
       "Non-frequent customer     2894975\n",
       "Name: order_freq_flag, dtype: int64"
      ]
     },
     "execution_count": 113,
     "metadata": {},
     "output_type": "execute_result"
    }
   ],
   "source": [
    "df['order_freq_flag'].value_counts(dropna = False)"
   ]
  },
  {
   "cell_type": "code",
   "execution_count": 114,
   "id": "9262db39",
   "metadata": {},
   "outputs": [],
   "source": [
    "crosstab_loy_freq = pd.crosstab(df['loyalty_flag'], df['order_freq_flag'], dropna = False)"
   ]
  },
  {
   "cell_type": "code",
   "execution_count": 115,
   "id": "b2d7579a",
   "metadata": {},
   "outputs": [
    {
     "data": {
      "text/html": [
       "<div>\n",
       "<style scoped>\n",
       "    .dataframe tbody tr th:only-of-type {\n",
       "        vertical-align: middle;\n",
       "    }\n",
       "\n",
       "    .dataframe tbody tr th {\n",
       "        vertical-align: top;\n",
       "    }\n",
       "\n",
       "    .dataframe thead th {\n",
       "        text-align: right;\n",
       "    }\n",
       "</style>\n",
       "<table border=\"1\" class=\"dataframe\">\n",
       "  <thead>\n",
       "    <tr style=\"text-align: right;\">\n",
       "      <th>order_freq_flag</th>\n",
       "      <th>Frequent customer</th>\n",
       "      <th>Non-frequent customer</th>\n",
       "      <th>Regular customer</th>\n",
       "    </tr>\n",
       "    <tr>\n",
       "      <th>loyalty_flag</th>\n",
       "      <th></th>\n",
       "      <th></th>\n",
       "      <th></th>\n",
       "    </tr>\n",
       "  </thead>\n",
       "  <tbody>\n",
       "    <tr>\n",
       "      <th>Loyal customer</th>\n",
       "      <td>10279960</td>\n",
       "      <td>0</td>\n",
       "      <td>4133</td>\n",
       "    </tr>\n",
       "    <tr>\n",
       "      <th>New customer</th>\n",
       "      <td>1293294</td>\n",
       "      <td>1983500</td>\n",
       "      <td>1526901</td>\n",
       "    </tr>\n",
       "    <tr>\n",
       "      <th>Regular customer</th>\n",
       "      <td>9631222</td>\n",
       "      <td>911475</td>\n",
       "      <td>5334079</td>\n",
       "    </tr>\n",
       "  </tbody>\n",
       "</table>\n",
       "</div>"
      ],
      "text/plain": [
       "order_freq_flag   Frequent customer  Non-frequent customer  Regular customer\n",
       "loyalty_flag                                                                \n",
       "Loyal customer             10279960                      0              4133\n",
       "New customer                1293294                1983500           1526901\n",
       "Regular customer            9631222                 911475           5334079"
      ]
     },
     "execution_count": 115,
     "metadata": {},
     "output_type": "execute_result"
    }
   ],
   "source": [
    "crosstab_loy_freq"
   ]
  },
  {
   "cell_type": "code",
   "execution_count": 119,
   "id": "a5656389",
   "metadata": {},
   "outputs": [
    {
     "data": {
      "text/plain": [
       "Text(0.5, 0, 'Type of Customer')"
      ]
     },
     "execution_count": 119,
     "metadata": {},
     "output_type": "execute_result"
    },
    {
     "data": {
      "image/png": "[encoded data removed]",
      "text/plain": [
       "<Figure size 640x480 with 1 Axes>"
      ]
     },
     "metadata": {},
     "output_type": "display_data"
    }
   ],
   "source": [
    "# Creating a bar chart for customer loyalty and order\n",
    "bar_loyal_Freq = crosstab_loy_freq.plot(kind = 'bar', rot = 0, color = sns.color_palette('Blues', 3))\n",
    "bar_loyal_Freq.legend(title = 'Order Frequency', bbox_to_anchor = (1, 1.02), loc = 'upper left')\n",
    "plt.title('Loyalty vs Orders', fontsize = 20)\n",
    "plt.ylabel('Frequency (in millions)')\n",
    "plt.xlabel('Type of Customer')"
   ]
  },
  {
   "cell_type": "code",
   "execution_count": 162,
   "id": "110205da",
   "metadata": {},
   "outputs": [],
   "source": [
    "# Exporting loyalty and order frequency distribution\n",
    "bar_loyal_Freq.figure.savefig(os.path.join(path, '04 Analysis', 'Visualization', 'loyalty_freq_distribution.png'), bbox_inches='tight')"
   ]
  },
  {
   "cell_type": "code",
   "execution_count": 149,
   "id": "9ddb7e47",
   "metadata": {},
   "outputs": [],
   "source": [
    "# Exporting Final Files\n",
    "df.to_pickle(os.path.join(path, '02 Data', 'Prepared Data', 'Final_Order_Product_Customer_Dataset.pkl'))"
   ]
  },
  {
   "cell_type": "code",
   "execution_count": 152,
   "id": "278a0b4e",
   "metadata": {},
   "outputs": [],
   "source": [
    "df_department.to_pickle(os.path.join(path, '02 Data', 'Prepared Data', 'Final_department.pkl'))"
   ]
  },
  {
   "cell_type": "code",
   "execution_count": null,
   "id": "f572b214",
   "metadata": {},
   "outputs": [],
   "source": []
  }
 ],
 "metadata": {
  "kernelspec": {
   "display_name": "Python 3 (ipykernel)",
   "language": "python",
   "name": "python3"
  },
  "language_info": {
   "codemirror_mode": {
    "name": "ipython",
    "version": 3
   },
   "file_extension": ".py",
   "mimetype": "text/x-python",
   "name": "python",
   "nbconvert_exporter": "python",
   "pygments_lexer": "ipython3",
   "version": "3.10.9"
  }
 },
 "nbformat": 4,
 "nbformat_minor": 5
}
