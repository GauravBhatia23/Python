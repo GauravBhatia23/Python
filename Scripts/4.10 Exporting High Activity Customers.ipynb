{
 "cells": [
  {
   "cell_type": "code",
   "execution_count": 1,
   "id": "4661fd0c",
   "metadata": {},
   "outputs": [],
   "source": [
    "# Importing libraries\n",
    "import pandas as pd\n",
    "import os"
   ]
  },
  {
   "cell_type": "code",
   "execution_count": 2,
   "id": "4928c253",
   "metadata": {},
   "outputs": [],
   "source": [
    "path = r'C:\\Users\\Bhati\\OneDrive\\Desktop\\CF\\Data Analytics Immersion\\Achievement 4\\11-Apr-2023 Instacart Basket Analysis'"
   ]
  },
  {
   "cell_type": "code",
   "execution_count": 3,
   "id": "e876d5c1",
   "metadata": {},
   "outputs": [],
   "source": [
    "df = pd.read_pickle(os.path.join(path, '02 Data', 'Prepared Data', 'customers_all activity.pkl'))"
   ]
  },
  {
   "cell_type": "code",
   "execution_count": 4,
   "id": "88c7d675",
   "metadata": {},
   "outputs": [],
   "source": [
    "# Create a new dataframe to store the high-activity customers\n",
    "df_ha = df.loc[df['activity_flag'] == 'high activity']"
   ]
  },
  {
   "cell_type": "code",
   "execution_count": 5,
   "id": "2b3353e2",
   "metadata": {},
   "outputs": [],
   "source": [
    "df_ha.to_pickle(os.path.join(path, '02 Data', 'Prepared Data', 'High_activity_customers.pkl'))"
   ]
  },
  {
   "cell_type": "code",
   "execution_count": 7,
   "id": "56ca2a3b",
   "metadata": {},
   "outputs": [
    {
     "data": {
      "text/plain": [
       "high activity    30964564\n",
       "low activity      1440295\n",
       "Name: activity_flag, dtype: int64"
      ]
     },
     "execution_count": 7,
     "metadata": {},
     "output_type": "execute_result"
    }
   ],
   "source": [
    "df['activity_flag'].value_counts(dropna = False)"
   ]
  },
  {
   "cell_type": "code",
   "execution_count": 8,
   "id": "9e10e919",
   "metadata": {},
   "outputs": [
    {
     "data": {
      "text/plain": [
       "30964564"
      ]
     },
     "execution_count": 8,
     "metadata": {},
     "output_type": "execute_result"
    }
   ],
   "source": [
    "len(df_ha)"
   ]
  },
  {
   "cell_type": "code",
   "execution_count": null,
   "id": "7c08628b",
   "metadata": {},
   "outputs": [],
   "source": []
  }
 ],
 "metadata": {
  "kernelspec": {
   "display_name": "Python 3 (ipykernel)",
   "language": "python",
   "name": "python3"
  },
  "language_info": {
   "codemirror_mode": {
    "name": "ipython",
    "version": 3
   },
   "file_extension": ".py",
   "mimetype": "text/x-python",
   "name": "python",
   "nbconvert_exporter": "python",
   "pygments_lexer": "ipython3",
   "version": "3.10.9"
  }
 },
 "nbformat": 4,
 "nbformat_minor": 5
}
